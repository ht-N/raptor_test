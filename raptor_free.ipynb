{
 "cells": [
  {
   "cell_type": "code",
   "execution_count": 1,
   "metadata": {},
   "outputs": [],
   "source": [
    "from huggingface_hub import login"
   ]
  },
  {
   "cell_type": "code",
   "execution_count": 2,
   "metadata": {},
   "outputs": [],
   "source": [
    "# login()"
   ]
  },
  {
   "cell_type": "code",
   "execution_count": 3,
   "metadata": {},
   "outputs": [],
   "source": [
    "import locale\n",
    "def getpreferredencoding(do_setlocale = True):\n",
    "  return \"UTF-8\"\n",
    "locale.getpreferredencoding = getpreferredencoding"
   ]
  },
  {
   "cell_type": "code",
   "execution_count": 4,
   "metadata": {},
   "outputs": [
    {
     "name": "stderr",
     "output_type": "stream",
     "text": [
      "C:\\Users\\hello\\AppData\\Local\\Temp\\ipykernel_10800\\1270141799.py:14: LangChainDeprecationWarning: The class `HuggingFaceHub` was deprecated in LangChain 0.0.21 and will be removed in 1.0. An updated version of the class exists in the :class:`~langchain-huggingface package and should be used instead. To use it run `pip install -U :class:`~langchain-huggingface` and import as `from :class:`~langchain_huggingface import HuggingFaceEndpoint``.\n",
      "  model = HuggingFaceHub(\n"
     ]
    }
   ],
   "source": [
    "from langchain_community.llms import HuggingFaceHub\n",
    "from langchain_core.callbacks import CallbackManager, StreamingStdOutCallbackHandler\n",
    "from langchain_core.prompts import PromptTemplate\n",
    "import os\n",
    "from dotenv import load_dotenv\n",
    "#\n",
    "n_gpu_layers = -1  # The number of layers to put on the GPU. The rest will be on the CPU. If you don't know how many layers there are, you can use -1 to move all to GPU.\n",
    "n_batch = 512  # Should be between 1 and n_ctx, consider the amount of VRAM in your GPU.\n",
    "#\n",
    "# Callbacks support token-wise streaming\n",
    "callback_manager = CallbackManager([StreamingStdOutCallbackHandler()])\n",
    "\n",
    "load_dotenv()\n",
    "\n",
    "# Set the OpenAI API key environment variable\n",
    "os.environ[\"OPENAI_API_KEY\"] = os.getenv('OPENAI_API_KEY')\n",
    "\n",
    "huggingface_api_token = os.getenv('huggingface_api_token')\n",
    "\n",
    "# Make sure the model path is correct for your system!\n",
    "model = HuggingFaceHub(\n",
    "    huggingfacehub_api_token=huggingface_api_token,\n",
    "    repo_id=\"mistralai/Mistral-7B-Instruct-v0.2\",  # You can change this to any model you want to use\n",
    "    model_kwargs={\n",
    "        \"temperature\": 0.75,\n",
    "        \"max_new_tokens\": 1000,\n",
    "        \"top_p\": 0.99,\n",
    "    }\n",
    ")"
   ]
  },
  {
   "cell_type": "code",
   "execution_count": 5,
   "metadata": {},
   "outputs": [
    {
     "name": "stderr",
     "output_type": "stream",
     "text": [
      "C:\\Users\\hello\\AppData\\Local\\Temp\\ipykernel_10800\\1487133571.py:7: LangChainDeprecationWarning: The class `HuggingFaceEmbeddings` was deprecated in LangChain 0.2.2 and will be removed in 1.0. An updated version of the class exists in the :class:`~langchain-huggingface package and should be used instead. To use it run `pip install -U :class:`~langchain-huggingface` and import as `from :class:`~langchain_huggingface import HuggingFaceEmbeddings``.\n",
      "  embd = HuggingFaceEmbeddings(\n"
     ]
    }
   ],
   "source": [
    "from langchain.vectorstores import Chroma\n",
    "from langchain_community.embeddings import HuggingFaceEmbeddings\n",
    "from langchain_community.vectorstores.utils import DistanceStrategy\n",
    "#\n",
    "EMBEDDING_MODEL_NAME = \"dangvantuan/vietnamese-document-embedding\"\n",
    "\n",
    "embd = HuggingFaceEmbeddings(\n",
    "    model_name=EMBEDDING_MODEL_NAME,\n",
    "    multi_process=True,\n",
    "    model_kwargs={\"device\": \"cuda\", \"trust_remote_code\": True},\n",
    "    encode_kwargs={\"normalize_embeddings\": True},  # set True for cosine similarity\n",
    ")"
   ]
  },
  {
   "cell_type": "code",
   "execution_count": 6,
   "metadata": {},
   "outputs": [],
   "source": [
    "import re\n",
    "from bs4 import BeautifulSoup as Soup\n",
    "from langchain_community.document_loaders import RecursiveUrlLoader\n",
    "\n",
    "def clean_text(text: str) -> str:\n",
    "    \"\"\"\n",
    "    Clean and normalize text by:\n",
    "    1. Removing extra whitespace\n",
    "    2. Removing special characters\n",
    "    3. Normalizing newlines\n",
    "    4. Removing redundant spaces\n",
    "    \"\"\"\n",
    "    # Replace multiple newlines with a single newline\n",
    "    text = re.sub(r'\\n+', '\\n', text)\n",
    "    \n",
    "    # Remove special characters while keeping Vietnamese diacritics\n",
    "    text = re.sub(r'[^\\w\\s\\d,.!?:;()\\'\\\"\\/\\-–—àáảãạăắằẳẵặâấầẩẫậèéẻẽẹêếềểễệìíỉĩịòóỏõọôốồổỗộơớờởỡợùúủũụưứừửữựỳýỷỹỵđÀÁẢÃẠĂẮẰẲẴẶÂẤẦẨẪẬÈÉẺẼẸÊẾỀỂỄỆÌÍỈĨỊÒÓỎÕỌÔỐỒỔỖỘƠỚỜỞỠỢÙÚỦŨỤƯỨỪỬỮỰỲÝỶỸỴĐ]+', ' ', text)\n",
    "    \n",
    "    # Remove extra whitespace\n",
    "    text = ' '.join(text.split())\n",
    "    \n",
    "    return text.strip()\n",
    "\n",
    "def extract_content(html_content: str) -> str:\n",
    "    \"\"\"\n",
    "    Extract meaningful content from HTML while removing navigation, headers, footers, etc.\n",
    "    \"\"\"\n",
    "    soup = Soup(html_content, 'html.parser')\n",
    "    \n",
    "    # Remove unwanted elements\n",
    "    for element in soup.find_all(['script', 'style', 'nav', 'footer', 'header']):\n",
    "        element.decompose()\n",
    "    \n",
    "    # Extract text from the main content\n",
    "    if main_content := soup.find('main') or soup.find('article') or soup.find('div', class_='content'):\n",
    "        text = main_content.get_text(separator=' ')\n",
    "    else:\n",
    "        text = soup.get_text(separator=' ')\n",
    "    \n",
    "    return clean_text(text)"
   ]
  },
  {
   "cell_type": "code",
   "execution_count": 7,
   "metadata": {},
   "outputs": [],
   "source": [
    "import matplotlib.pyplot as plt\n",
    "import tiktoken\n",
    "from bs4 import BeautifulSoup as Soup\n",
    "from langchain_community.document_loaders.recursive_url_loader import RecursiveUrlLoader\n",
    "\n",
    "## Helper Fuction to count the number of Tokensin each text\n",
    "def num_tokens_from_string(string: str, encoding_name: str) -> int:\n",
    "    \"\"\"Returns the number of tokens in a text string.\"\"\"\n",
    "    encoding = tiktoken.get_encoding(encoding_name)\n",
    "    num_tokens = len(encoding.encode(string))\n",
    "    return num_tokens\n",
    "\n",
    "#\n",
    "url = \"https://medlatec.vn/tin-tuc/bi-cam-cum-uong-thuoc-gi-cac-loai-thuoc-cum-pho-bien-hien-nay-s64-n33484\"\n",
    "loader = RecursiveUrlLoader(\n",
    "    url=url,\n",
    "    max_depth=20,\n",
    "    extractor=extract_content\n",
    ")\n",
    "docs = loader.load()\n",
    "\n",
    "# # LCEL w/ PydanticOutputParser (outside the primary LCEL docs)\n",
    "# url = \"https://python.langchain.com/docs/modules/model_io/output_parsers/quick_start\"\n",
    "# loader = RecursiveUrlLoader(\n",
    "#     url=url, max_depth=1, extractor=lambda x: Soup(x, \"html.parser\").text\n",
    "# )\n",
    "# docs_pydantic = loader.load()\n",
    "\n",
    "# # LCEL w/ Self Query (outside the primary LCEL docs)\n",
    "# url = \"https://python.langchain.com/docs/modules/data_connection/retrievers/self_query/\"\n",
    "# loader = RecursiveUrlLoader(\n",
    "#     url=url, max_depth=1, extractor=lambda x: Soup(x, \"html.parser\").text\n",
    "# )\n",
    "# docs_sq = loader.load()\n",
    "\n",
    "# Doc texts\n",
    "# docs.extend([*docs_pydantic, *docs_sq])\n",
    "docs_texts = [d.page_content for d in docs]"
   ]
  },
  {
   "cell_type": "code",
   "execution_count": 8,
   "metadata": {},
   "outputs": [
    {
     "name": "stdout",
     "output_type": "stream",
     "text": [
      "Cleaned content sample:\n",
      "Tin tức Trang chủ Tin tức y khoa Bị cảm cúm uống thuốc gì? Các loại thuốc cúm phổ biến hiện nay Bị cảm cúm uống thuốc gì? Các loại thuốc cúm phổ biến hiện nay Ngày 06/06/2023 Cảm cúm là tình trạng thường gặp ở mọi lứa tuổi, xảy ra nhiều nhất trong giai đoạn thời tiết thay đổi. Triệu chứng của cảm cúm thường khiến bệnh nhân mệt mỏi, sổ mũi, đau nhức cơ thể,... ảnh hưởng không nhỏ đến sinh hoạt hàng ngày. Vì thế nên nhiều người đã tìm đến các thuốc điều trị cảm cúm để khắc phục những khó chịu do t\n"
     ]
    }
   ],
   "source": [
    "if docs:\n",
    "    print(\"Cleaned content sample:\")\n",
    "    print(docs[0].page_content[:500])"
   ]
  },
  {
   "cell_type": "code",
   "execution_count": 9,
   "metadata": {},
   "outputs": [
    {
     "data": {
      "image/png": "[encoded data removed]",
      "text/plain": [
       "<Figure size 1000x600 with 1 Axes>"
      ]
     },
     "metadata": {},
     "output_type": "display_data"
    }
   ],
   "source": [
    "counts = [num_tokens_from_string(d, \"cl100k_base\") for d in docs_texts]\n",
    "\n",
    "# Plotting the histogram of token counts\n",
    "plt.figure(figsize=(10, 6))\n",
    "plt.hist(counts, bins=30, color=\"blue\", edgecolor=\"black\", alpha=0.7)\n",
    "plt.title(\"Histogram of Token Counts\")\n",
    "plt.xlabel(\"Token Count\")\n",
    "plt.ylabel(\"Frequency\")\n",
    "plt.grid(axis=\"y\", alpha=0.75)\n",
    "\n",
    "# Display the histogram\n",
    "plt.show()"
   ]
  },
  {
   "cell_type": "code",
   "execution_count": 10,
   "metadata": {},
   "outputs": [
    {
     "name": "stdout",
     "output_type": "stream",
     "text": [
      "Num tokens in all context: 5369\n"
     ]
    }
   ],
   "source": [
    "# Doc texts concat\n",
    "d_sorted = sorted(docs, key=lambda x: x.metadata[\"source\"])\n",
    "d_reversed = list(reversed(d_sorted))\n",
    "concatenated_content = \"\\n\\n\\n --- \\n\\n\\n\".join(\n",
    "    [doc.page_content for doc in d_reversed]\n",
    ")\n",
    "print(\n",
    "    \"Num tokens in all context: %s\"\n",
    "    % num_tokens_from_string(concatenated_content, \"cl100k_base\")\n",
    ")\n",
    "#\n",
    "# Response\n",
    "# Num tokens in all context: 69108"
   ]
  },
  {
   "cell_type": "code",
   "execution_count": 11,
   "metadata": {},
   "outputs": [
    {
     "name": "stdout",
     "output_type": "stream",
     "text": [
      "Number of text splits generated: 10\n"
     ]
    }
   ],
   "source": [
    "# Doc texts split\n",
    "from langchain_text_splitters import RecursiveCharacterTextSplitter\n",
    "\n",
    "chunk_size_tok = 1000\n",
    "text_splitter = RecursiveCharacterTextSplitter.from_tiktoken_encoder(\n",
    "    chunk_size=chunk_size_tok, chunk_overlap=0\n",
    ")\n",
    "texts_split = text_splitter.split_text(concatenated_content)\n",
    "#\n",
    "print(f\"Number of text splits generated: {len(texts_split)}\")\n",
    "#\n",
    "# Response\n",
    "# Number of text splits generated: 142"
   ]
  },
  {
   "cell_type": "code",
   "execution_count": 12,
   "metadata": {},
   "outputs": [
    {
     "name": "stdout",
     "output_type": "stream",
     "text": [
      "768\n"
     ]
    }
   ],
   "source": [
    "global_embeddings = [embd.embed_query(txt) for txt in texts_split]\n",
    "print(len(global_embeddings[0]))\n",
    "###########\n",
    "# 384"
   ]
  },
  {
   "cell_type": "code",
   "execution_count": 13,
   "metadata": {},
   "outputs": [
    {
     "name": "stderr",
     "output_type": "stream",
     "text": [
      "c:\\Users\\hello\\miniconda3\\envs\\raptor\\Lib\\site-packages\\sklearn\\utils\\deprecation.py:151: FutureWarning: 'force_all_finite' was renamed to 'ensure_all_finite' in 1.6 and will be removed in 1.8.\n",
      "  warnings.warn(\n"
     ]
    },
    {
     "name": "stdout",
     "output_type": "stream",
     "text": [
      "[12.897343  -0.7120698]\n"
     ]
    },
    {
     "data": {
      "image/png": "[encoded data removed]",
      "text/plain": [
       "<Figure size 1000x800 with 1 Axes>"
      ]
     },
     "metadata": {},
     "output_type": "display_data"
    }
   ],
   "source": [
    "import matplotlib.pyplot as plt\n",
    "from typing import Optional\n",
    "import numpy as np\n",
    "import umap\n",
    "\n",
    "def reduce_cluster_embeddings(\n",
    "    embeddings: np.ndarray,\n",
    "    dim: int,\n",
    "    n_neighbors: Optional[int] = None,\n",
    "    metric: str = \"cosine\",\n",
    ") -> np.ndarray:\n",
    "    if n_neighbors is None:\n",
    "        n_neighbors = int((len(embeddings) - 1) ** 0.5)\n",
    "    return umap.UMAP(\n",
    "        n_neighbors=n_neighbors, n_components=dim, metric=metric\n",
    "    ).fit_transform(embeddings)\n",
    "\n",
    "\n",
    "dim = 2\n",
    "global_embeddings_reduced = reduce_cluster_embeddings(global_embeddings, dim)\n",
    "print(global_embeddings_reduced[0])\n",
    "#\n",
    "plt.figure(figsize=(10, 8))\n",
    "plt.scatter(global_embeddings_reduced[:, 0], global_embeddings_reduced[:, 1], alpha=0.5)\n",
    "plt.title(\"Global Embeddings\")\n",
    "plt.xlabel(\"Dimension 1\")\n",
    "plt.ylabel(\"Dimension 2\")\n",
    "plt.show()"
   ]
  },
  {
   "cell_type": "code",
   "execution_count": 14,
   "metadata": {},
   "outputs": [
    {
     "data": {
      "image/png": "[encoded data removed]",
      "text/plain": [
       "<Figure size 1000x800 with 1 Axes>"
      ]
     },
     "metadata": {},
     "output_type": "display_data"
    }
   ],
   "source": [
    "import matplotlib.pyplot as plt\n",
    "import numpy as np\n",
    "from sklearn.mixture import GaussianMixture\n",
    "\n",
    "def get_optimal_clusters(embeddings: np.ndarray, max_clusters: int = 50, random_state: int = 1234):\n",
    "    max_clusters = min(max_clusters, len(embeddings))\n",
    "    bics = [GaussianMixture(n_components=n, random_state=random_state).fit(embeddings).bic(embeddings)\n",
    "            for n in range(1, max_clusters)]\n",
    "    return np.argmin(bics) + 1\n",
    "\n",
    "def gmm_clustering(embeddings: np.ndarray, threshold: float, random_state: int = 0):\n",
    "    n_clusters = get_optimal_clusters(embeddings)\n",
    "    gm = GaussianMixture(n_components=n_clusters, random_state=random_state).fit(embeddings)\n",
    "    probs = gm.predict_proba(embeddings)\n",
    "    labels = [np.where(prob > threshold)[0] for prob in probs]\n",
    "    return labels, n_clusters\n",
    "#\n",
    "labels, _ = gmm_clustering(global_embeddings_reduced, threshold=0.5)\n",
    "\n",
    "plot_labels = np.array([label[0] if len(label) > 0 else -1 for label in labels])\n",
    "plt.figure(figsize=(10, 8))\n",
    "\n",
    "unique_labels = np.unique(plot_labels)\n",
    "colors = plt.cm.rainbow(np.linspace(0, 1, len(unique_labels)))\n",
    "\n",
    "for label, color in zip(unique_labels, colors):\n",
    "    mask = plot_labels == label\n",
    "    plt.scatter(global_embeddings_reduced[mask, 0], global_embeddings_reduced[mask, 1], color=color, label=f'Cluster {label}', alpha=0.5)\n",
    "\n",
    "plt.title(\"Cluster Visualization of Global Embeddings\")\n",
    "plt.xlabel(\"Dimension 1\")\n",
    "plt.ylabel(\"Dimension 2\")\n",
    "plt.legend()\n",
    "plt.show()"
   ]
  },
  {
   "cell_type": "code",
   "execution_count": 15,
   "metadata": {},
   "outputs": [
    {
     "name": "stdout",
     "output_type": "stream",
     "text": [
      "                                                Text                Embedding  \\\n",
      "0  Tin tức Trang chủ Tin tức y khoa Bị cảm cúm uố...  [12.897343, -0.7120698]   \n",
      "1  mũi,... Người cao tuổi, trẻ em, phụ nữ mang th...  [12.339999, -0.6280454]   \n",
      "2  hiểm đến tính mạng. Nhóm thuốc giúp khắc phục ...   [13.409542, -4.853353]   \n",
      "\n",
      "   Cluster  \n",
      "0        7  \n",
      "1        7  \n",
      "2        8  \n"
     ]
    }
   ],
   "source": [
    "import pandas as pd\n",
    "\n",
    "simple_labels = [label[0] if len(label) > 0 else -1 for label in labels]\n",
    "\n",
    "df = pd.DataFrame({\n",
    "    'Text': texts_split,\n",
    "    'Embedding': list(global_embeddings_reduced),\n",
    "    'Cluster': simple_labels\n",
    "})\n",
    "print(df.head(3))"
   ]
  },
  {
   "cell_type": "code",
   "execution_count": 16,
   "metadata": {},
   "outputs": [
    {
     "data": {
      "text/plain": [
       "{np.int64(7): 'Tin tức Trang chủ Tin tức y khoa Bị cảm cúm uống thuốc gì? Các loại thuốc cúm phổ biến hiện nay Bị cảm cúm uống thuốc gì? Các loại thuốc cúm phổ biến hiện nay Ngày 06/06/2023 Cảm cúm là tình trạng thường gặp ở mọi lứa tuổi, xảy ra nhiều nhất trong giai đoạn thời tiết thay đổi. Triệu chứng của cảm cúm thường khiến bệnh nhân mệt mỏi, sổ mũi, đau nhức cơ thể,... ảnh hưởng không nhỏ đến sinh hoạt hàng ngày. Vì thế nên nhiều người đã tìm đến các thuốc điều trị cảm cúm để khắc phục những khó chịu do tình trạng này gây ra. Vậy bị cảm cúm uống thuốc gì để nhanh khỏi? Câu trả lời sẽ được chia sẻ ngay dưới bài viết sau đây. 03/08/2022 Điều trị cảm cúm hiệu quả với thuốc Eugica 16/09/2022 Phân biệt dấu hiệu mắc Adenovirus với bệnh cảm cúm, hô hấp thông thường 07/11/2021 Những điều cần lưu ý về bệnh cảm cúm giao mùa 1. Tìm hiểu chung về bệnh cúm Khi bị cảm cúm , người bệnh thường sẽ có các triệu chứng như hắt hơi, toàn thân đau mỏi, nhức đầu, đau nhức cơ,... Sang đến giai đoạn sau những triệu chứng của bệnh sẽ tiến triển thành tiểu ít, tức ngực, khản tiếng, chảy nước --- mũi,... Người cao tuổi, trẻ em, phụ nữ mang thai, người mắc các bệnh mạn tính là những đối tượng dễ bị cảm cúm nhất. ngoài ra những người ít vận động, không giữ ấm cho cơ thể và thường xuyên thiếu ngủ cũng có nguy cơ cao bị cảm cúm. Nguyên nhân là do họ là những người có sức đề kháng yếu, dễ bị virus, vi khuẩn và các tác nhân gây bệnh tấn công. Hiện nay vẫn chưa có loại thuốc đặc trị cảm cúm mà các thuốc đang dùng phổ biến bây giờ chỉ có tác dụng hỗ trợ giảm nhẹ triệu chứng của bệnh. Người bệnh thường có triệu chứng mệt mỏi, sổ mũi, đau cơ khi bị cúm 2. Bị cảm cúm uống thuốc thuốc gì? 2.1. Nhóm thuốc điều trị triệu chứng Nhóm thuốc có tác dụng giảm đau họng, đau đầu, giảm sốt: Cảm cúm uống thuốc gì? Nếu bạn bị cảm cúm và có các triệu chứng như sốt cao, đau đầu, đau họng thì có thể sử dụng thuốc Paracetamol. Thuốc này có độ an toàn cao, giảm sốt hiệu quả và là loại thuốc không cần kê đơn. Trẻ nhỏ và người lớn sẽ có liều dùng khác nhau, mỗi lần uống cần cách nhau tối thiểu từ 4 - 6 giờ. Tuyệt đối không được lạm dụng paracetamol vì có thể gây ngộ độc gan và nguy',\n",
       " np.int64(8): 'hiểm đến tính mạng. Nhóm thuốc giúp khắc phục chứng hắt hơi, nghẹt mũi , sổ mũi: Để giảm bớt tình trạng sưng nề niêm mạc bên trong mũi, viêm xoang thì bệnh nhân nên dùng các thuốc có công dụng co mạch. Các thuốc này thường được bào chế dưới dạng thuốc nhỏ mũi (Naphazolin, xylometazolin,...) giúp co tĩnh mạch hang, co động mạch nhỏ, thúc đẩy tuần hoàn máu đi nơi khác nên các hốc xoang sẽ thông thoáng hơn. chỉ nên dùng thuốc trong khoảng 3 - 5 ngày theo chỉ định của bác sĩ. Nếu dùng kéo dài có thể gặp phải các tác dụng không mong muốn như đau đầu, phù nề niêm mạc, viêm mũi, giảm chức năng khứu giác,... Nhóm thuốc long đờm : Thuốc long đờm giúp giảm tiết dịch ở niêm mạc khí quản, phế quản, có tác dụng làm loãng đờm nhớt, nhờ đó dịch nhầy sẽ dễ dàng được tống xuất ra ngoài hơn, giảm bớt sự khó chịu cho người bệnh. Một số loại thuốc long đờm được chỉ định phổ biến bao gồm: Acetylcystein, Bromhexin, Ambroxol,... Ngoài ra còn có các thuốc có công dụng kép là vừa trị ho vừa hỗ trợ long đờm như Broncho, Solmux, Atussin,... Tuy nhiên cũng cần thận trọng trước các tác dụng phụ do thuốc long đờm gây ra, đó là: nguy cơ viêm loét dạ dày, gây chóng mặt, hoa mắt, rối',\n",
       " np.int64(6): 'loạn tiêu hóa, buồn nôn, các cơn co thắt phế quản, buồn ngủ và tăng men gan,... Vì vậy nếu cần sử dụng thuốc long đờm thì người bệnh cần tuân theo chỉ dẫn của bác sĩ chuyên khoa. Nhóm thuốc giảm ho: Nếu bệnh nhân bị cảm cúm có kèm theo triệu chứng ho thì bác sĩ có thể sẽ chỉ định cho bệnh nhân dùng thêm thuốc trị ho. Trong trường hợp chỉ bị ho nhẹ thì có thể chưa cần sử dụng, còn nếu bạn bị ho nhiều, các cơn ho gây đau rát cổ họng, khó chịu thì nên dùng loại thuốc này. Đối với những người bị ho khan thì có thể dùng thuốc chứa codein hoặc dextromethorphan. Còn nếu bị ho khan kèm biểu hiện nghẹt mũi, sổ mũi thì nên dùng thuốc có các thành phần atussin, decolgen, rhumenol,... Có một lưu ý là thuốc chứa dextromethorphan cũng có thêm các hoạt chất kháng histamin giúp tăng cường tác dụng hạn chế nghẹt mũi, hắt hơi, sổ mũi nhưng thành phần kháng histamin có tác dụng phụ là gây buồn ngủ. Do đó không nên dùng thuốc khi điều khiển phương tiện giao thông, vận hành máy móc,... Thuốc trị cảm cúm chủ yếu là dùng để điều trị triệu chứng Nhóm thuốc kháng histamin: Như đã đề cập thì nhóm thuốc này phát huy hiệu quả công dụng trong các trường hợp bị nghẹt mũi, sổ mũi và được bào',\n",
       " np.int64(3): 'chế theo hình thức thuốc viên, dạng xịt, viên đặt trực tràng,... Thuốc kháng histamin gồm có 3 loại sau: Thuốc kháng histamin H1: giúp kiểm soát tình trạng dị ứng như nghẹt mũi, sổ mũi, hắt hơi, nổi mề đay; Thuốc kháng histamin H2: có tác dụng giảm tiết dịch vị acid dạ dày như hiện nay ít được dùng để điều trị bệnh dạ dày. Thay vào đó các thuốc có công dụng ức chế bơm proton đem lại hiệu quả cao hơn; Thuốc kháng histamin H3: thường được chỉ định để điều trị các bệnh lý về thần kinh. Trong số 3 loại trên thì thuốc kháng histamin H1 hay được dùng trong điều trị cảm cúm, giúp chữa ho và sổ mũi. Mặc dù được bán rộng rãi trên thị trường nhưng việc dùng thuốc tốt hơn hết vẫn là nên tuân theo chỉ định của bác sĩ chuyên khoa. Đặc biệt người bị tiểu đường, mắc bệnh mạn tính như tim mạch, phụ nữ có thai hoặc đang cho con bú, rối loạn nhịp tim,... không nên tự ý sử dụng thuốc histamin. 2.2. Thuốc điều trị đặc hiệu Bị cảm cúm uống thuốc gì ngoài những loại thuốc điều trị triệu chứng nêu trên? Các thuốc điều trị đặc hiệu là nhóm thuốc kháng virus được dùng đối với các trường hợp bị cảm cúm xuất hiện thêm các biến chứng nguy',\n",
       " np.int64(0): 'hiểm. Cụ thể đó là những trường hợp bị cúm ác tính, nhiễm cúm nặng, diễn tiến bệnh phức tạp ở trẻ sơ sinh, người nguy cơ biến chứng cao như bệnh nhân lớn tuổi, phụ nữ có thai, người mắc các bệnh mạn tính như tim mạch, tiểu đường, béo phì, suy thận,... Một số thuốc kháng virus có thể được chỉ định trong điều trị cảm cúm dạng nặng đó là: Tamiflu: được dùng cho bệnh nhân bị cúm do virus với biểu hiện bệnh trong vòng 48 giờ đầu tiên. Ngoài ra Tamiflu cũng phù hợp sử dụng cho những trường hợp bệnh nhân tiếp xúc với nguồn lây nhiễm nhưng chưa có triệu chứng. Không được tự ý dùng Tamiflu cho những người bị cảm lạnh thông thường. Nếu bạn bắt đầu xuất hiện các dấu hiệu như đau cơ, sốt, nghẹt mũi, ớn lạnh, đau họng,... thì có thể bắt đầu dùng thuốc. Trong trường hợp xảy ra các tác dụng phụ như khó thở, nổi mề đay, phát ban, sưng môi, lưỡi,... thì nên ngừng thuốc và đi khám ngay; Relenza: là một loại thuốc phòng ngừa và điều trị cúm dạng hít, công dụng chính là giúp ngăn chặn enzyme neuraminidase do virus sản xuất ra. Loại enzyme này có khả năng khiến virus nhanh chóng lây lan trong cơ thể nên nếu kiểm soát được hoạt động của neuraminidase sẽ giúp',\n",
       " np.int64(2): 'làm giảm triệu chứng của cúm. Thuốc cũng có thể gây ra những phản ứng phụ là buồn nôn, nôn, tiêu chảy, chóng mặt, đau đầu . Các loại thuốc khác: những thuốc cũ như rimantadine và amantadine đã từng được cấp phép trong điều trị cúm A. Nhưng sau này do sự xuất hiện của nhiều chủng cúm mới có sức đề kháng mạnh mẽ với hai loại thuốc này nên hiện nay chúng gần như không còn được chỉ định để điều trị cúm nữa. Việc dùng thuốc trị cảm cúm cần tuân thủ chỉ định của bác sĩ Như vậy bài viết trên đã cung cấp các thông tin cần thiết để trả lời cho câu hỏi cảm cúm uống thuốc gì? . Nhiều người cho rằng cảm cúm chỉ là một bệnh vặt nhưng thực chất nó có thể gây ra những biến chứng nguy hiểm, ảnh hưởng không nhỏ đến sức khỏe, thậm chí là tính mạng của người bệnh nếu không được điều trị đúng cách và người mắc thuộc nhóm đối tượng có nguy cơ cao. Nếu bạn đang có các triệu chứng của bệnh cúm cần được tư vấn điều trị thì có thể đến khám tại Chuyên khoa Hô hấp của Bệnh viện Đa khoa MEDLATEC. Bác sĩ sẽ giúp bạn kiểm tra và hướng dẫn điều trị sao cho đúng cách, hiệu quả. Mọi thông tin chi tiết',\n",
       " np.int64(1): 'xin vui lòng liên hệ qua hotline 1900 56 56 56. Từ khoá: cảm cúm thuốc nghẹt mũi thuốc long đờm Bình luận ( ) Ý kiến của bạn sẽ được xét duyệt trước khi đăng. Tin cùng chuyên mục Thứ Ba, 25 tháng 2, 2025 Tình trạng phổi trắng có lây không? Các cách giảm thiểu n... Phổi trắng là tình trạng tổn thương của phổi, được xác định thông qua hình ảnh chụp phổi. Tình trạng này khiến nhiều người lo lắng bởi những thông tin chưa rõ ràng về mức độ nguy hiểm và khả năng lây lan. Cùng MEDLATEC giải đáp thông tin phổi trắng có lây không và các cách để giảm thiểu nguy cơ lây nhiễm bệnh. Thứ Ba, 25 tháng 2, 2025 Viêm thanh quản mạn tính có chữa được không? Cách điều tr... Viêm thanh quản khi chuyển sang giai đoạn mạn tính, người bệnh thường phải đối mặt với nhiều khó khăn trong giao tiếp và sinh hoạt hàng ngày. Vậy viêm thanh quản mạn tính có chữa được không là một câu hỏi mà nhiều người đặt ra. Hãy cùng Hệ thống Y tế MEDLATEC tìm hiểu chi tiết trong bài viết dưới đây. Chủ Nhật, 23 tháng 2, 2025 Bỏ túi cách chữa hắt xì sổ mũi liên tục tại nhà Nhiều người gặp khó chịu với tình trạng hắt xì và sổ mũi liên tục mà chưa tìm ra phương pháp điều trị triệt để. Trong bài viết này, MEDLATEC sẽ thông tin',\n",
       " np.int64(5): 'tới bạn đọc cách chữa hắt xì sổ mũi liên tục tại nhà từ các nguyên liệu tự nhiên, an toàn và dễ thực hiện giúp hỗ trợ cải thiện tình trạng bệnh. Thứ Tư, 19 tháng 2, 2025 Chi phí cắt polyp thanh quản là bao nhiêu? Cần lưu ý gì k... Polyp thanh quản là một trong những nguyên nhân phổ biến gây ảnh hưởng đến giọng nói và sinh hoạt hàng ngày của người bệnh. Trong nhiều trường hợp, việc cắt polyp thanh quản là cần thiết để đảm bảo sức khỏe. Bài viết dưới đây MEDLATEC sẽ giúp bạn tìm hiểu về chi phí cắt polyp thanh quản và cần lưu ý gì khi quyết định phẫu thuật. Thứ Ba, 18 tháng 2, 2025 Bị hạt xơ dây thanh quản gây ảnh hưởng gì đến giọng nói? Giọng nói là cầu nối quan trọng trong giao tiếp và thể hiện cảm xúc, nhưng hạt xơ dây thanh quản có thể làm giọng bạn khàn đi, mất trong trẻo, thậm chí gây khó khăn khi nói chuyện. Đây là tình trạng không nguy hiểm đến tính mạng nhưng lại ảnh hưởng lớn đến chất lượng cuộc sống. Vậy hạt xơ dây thanh quản là gì, tác động như thế nào và có thể điều trị ra sao? Hãy cùng tìm hiểu các thông tin trong bài viết dưới đây! Hotline 1900565656 Liên hệ ngay với số hotline của MEDLATEC để được phục vụ và sử dụng các dịch vụ',\n",
       " np.int64(4): 'khám, chữa bệnh hiện đại cao cấp nhất. Liên hệ với chúng tôi Đăng ký khám và tư vấn Tại nhà Tại viện Captcha validation is required. Đăng ký Lựa chọn dịch vụ Quý khách hàng vui lòng lựa chọn dịch vụ y tế theo nhu cầu! Lấy mẫu xét nghiệm tại nhà Lấy mẫu xét nghiệm tại nhà giúp khách hàng chủ động tầm soát bệnh lý. Đồng thời tiết kiệm thời gian đi lại, chờ đợi kết quả với mức chi phí hợp lý. Đặt lịch Đặt lịch Đặt lịch thăm khám tại MEDLATEC Đặt lịch khám tại cơ sở khám chữa bệnh thuộc Hệ thống Y tế MEDLATEC giúp chủ động thời gian, hạn chế tiếp xúc đông người. Đặt lịch Đặt lịch'}"
      ]
     },
     "execution_count": 16,
     "metadata": {},
     "output_type": "execute_result"
    }
   ],
   "source": [
    "def format_cluster_texts(df):\n",
    "    clustered_texts = {}\n",
    "    for cluster in df['Cluster'].unique():\n",
    "        cluster_texts = df[df['Cluster'] == cluster]['Text'].tolist()\n",
    "        clustered_texts[cluster] = \" --- \".join(cluster_texts)\n",
    "    return clustered_texts\n",
    "#\n",
    "clustered_texts = format_cluster_texts(df)\n",
    "#\n",
    "clustered_texts"
   ]
  },
  {
   "cell_type": "code",
   "execution_count": 17,
   "metadata": {},
   "outputs": [],
   "source": [
    "from typing import Dict, List, Optional, Tuple\n",
    "\n",
    "import numpy as np\n",
    "import pandas as pd\n",
    "import umap\n",
    "from langchain.prompts import ChatPromptTemplate\n",
    "from langchain_core.output_parsers import StrOutputParser\n",
    "from sklearn.mixture import GaussianMixture\n",
    "\n",
    "RANDOM_SEED = 224  # Fixed seed for reproducibility\n",
    "\n",
    "### --- Code from citations referenced above (added comments and docstrings) --- ###\n",
    "\n",
    "\n",
    "def global_cluster_embeddings(\n",
    "    embeddings: np.ndarray,\n",
    "    dim: int,\n",
    "    n_neighbors: Optional[int] = None,\n",
    "    metric: str = \"cosine\",\n",
    ") -> np.ndarray:\n",
    "    \"\"\"\n",
    "    Perform global dimensionality reduction on the embeddings using UMAP.\n",
    "\n",
    "    Parameters:\n",
    "    - embeddings: The input embeddings as a numpy array.\n",
    "    - dim: The target dimensionality for the reduced space.\n",
    "    - n_neighbors: Optional; the number of neighbors to consider for each point.\n",
    "                   If not provided, it defaults to the square root of the number of embeddings.\n",
    "    - metric: The distance metric to use for UMAP.\n",
    "\n",
    "    Returns:\n",
    "    - A numpy array of the embeddings reduced to the specified dimensionality.\n",
    "    \"\"\"\n",
    "    if n_neighbors is None:\n",
    "        n_neighbors = int((len(embeddings) - 1) ** 0.5)\n",
    "    return umap.UMAP(\n",
    "        n_neighbors=n_neighbors, n_components=dim, metric=metric\n",
    "    ).fit_transform(embeddings)\n",
    "\n",
    "\n",
    "def local_cluster_embeddings(\n",
    "    embeddings: np.ndarray, dim: int, num_neighbors: int = 10, metric: str = \"cosine\"\n",
    ") -> np.ndarray:\n",
    "    \"\"\"\n",
    "    Perform local dimensionality reduction on the embeddings using UMAP, typically after global clustering.\n",
    "\n",
    "    Parameters:\n",
    "    - embeddings: The input embeddings as a numpy array.\n",
    "    - dim: The target dimensionality for the reduced space.\n",
    "    - num_neighbors: The number of neighbors to consider for each point.\n",
    "    - metric: The distance metric to use for UMAP.\n",
    "\n",
    "    Returns:\n",
    "    - A numpy array of the embeddings reduced to the specified dimensionality.\n",
    "    \"\"\"\n",
    "    return umap.UMAP(\n",
    "        n_neighbors=num_neighbors, n_components=dim, metric=metric\n",
    "    ).fit_transform(embeddings)\n",
    "\n",
    "\n",
    "def get_optimal_clusters(\n",
    "    embeddings: np.ndarray, max_clusters: int = 50, random_state: int = RANDOM_SEED\n",
    ") -> int:\n",
    "    \"\"\"\n",
    "    Determine the optimal number of clusters using the Bayesian Information Criterion (BIC) with a Gaussian Mixture Model.\n",
    "\n",
    "    Parameters:\n",
    "    - embeddings: The input embeddings as a numpy array.\n",
    "    - max_clusters: The maximum number of clusters to consider.\n",
    "    - random_state: Seed for reproducibility.\n",
    "\n",
    "    Returns:\n",
    "    - An integer representing the optimal number of clusters found.\n",
    "    \"\"\"\n",
    "    max_clusters = min(max_clusters, len(embeddings))\n",
    "    n_clusters = np.arange(1, max_clusters)\n",
    "    bics = []\n",
    "    for n in n_clusters:\n",
    "        gm = GaussianMixture(n_components=n, random_state=random_state)\n",
    "        gm.fit(embeddings)\n",
    "        bics.append(gm.bic(embeddings))\n",
    "    return n_clusters[np.argmin(bics)]\n",
    "\n",
    "\n",
    "def GMM_cluster(embeddings: np.ndarray, threshold: float, random_state: int = 0):\n",
    "    \"\"\"\n",
    "    Cluster embeddings using a Gaussian Mixture Model (GMM) based on a probability threshold.\n",
    "\n",
    "    Parameters:\n",
    "    - embeddings: The input embeddings as a numpy array.\n",
    "    - threshold: The probability threshold for assigning an embedding to a cluster.\n",
    "    - random_state: Seed for reproducibility.\n",
    "\n",
    "    Returns:\n",
    "    - A tuple containing the cluster labels and the number of clusters determined.\n",
    "    \"\"\"\n",
    "    n_clusters = get_optimal_clusters(embeddings)\n",
    "    gm = GaussianMixture(n_components=n_clusters, random_state=random_state)\n",
    "    gm.fit(embeddings)\n",
    "    probs = gm.predict_proba(embeddings)\n",
    "    labels = [np.where(prob > threshold)[0] for prob in probs]\n",
    "    return labels, n_clusters\n",
    "\n",
    "\n",
    "def perform_clustering(\n",
    "    embeddings: np.ndarray,\n",
    "    dim: int,\n",
    "    threshold: float,\n",
    ") -> List[np.ndarray]:\n",
    "    \"\"\"\n",
    "    Perform clustering on the embeddings by first reducing their dimensionality globally, then clustering\n",
    "    using a Gaussian Mixture Model, and finally performing local clustering within each global cluster.\n",
    "\n",
    "    Parameters:\n",
    "    - embeddings: The input embeddings as a numpy array.\n",
    "    - dim: The target dimensionality for UMAP reduction.\n",
    "    - threshold: The probability threshold for assigning an embedding to a cluster in GMM.\n",
    "\n",
    "    Returns:\n",
    "    - A list of numpy arrays, where each array contains the cluster IDs for each embedding.\n",
    "    \"\"\"\n",
    "    if len(embeddings) <= dim + 1:\n",
    "        # Avoid clustering when there's insufficient data\n",
    "        return [np.array([0]) for _ in range(len(embeddings))]\n",
    "\n",
    "    # Global dimensionality reduction\n",
    "    reduced_embeddings_global = global_cluster_embeddings(embeddings, dim)\n",
    "    # Global clustering\n",
    "    global_clusters, n_global_clusters = GMM_cluster(\n",
    "        reduced_embeddings_global, threshold\n",
    "    )\n",
    "\n",
    "    all_local_clusters = [np.array([]) for _ in range(len(embeddings))]\n",
    "    total_clusters = 0\n",
    "\n",
    "    # Iterate through each global cluster to perform local clustering\n",
    "    for i in range(n_global_clusters):\n",
    "        # Extract embeddings belonging to the current global cluster\n",
    "        global_cluster_embeddings_ = embeddings[\n",
    "            np.array([i in gc for gc in global_clusters])\n",
    "        ]\n",
    "\n",
    "        if len(global_cluster_embeddings_) == 0:\n",
    "            continue\n",
    "        if len(global_cluster_embeddings_) <= dim + 1:\n",
    "            # Handle small clusters with direct assignment\n",
    "            local_clusters = [np.array([0]) for _ in global_cluster_embeddings_]\n",
    "            n_local_clusters = 1\n",
    "        else:\n",
    "            # Local dimensionality reduction and clustering\n",
    "            reduced_embeddings_local = local_cluster_embeddings(\n",
    "                global_cluster_embeddings_, dim\n",
    "            )\n",
    "            local_clusters, n_local_clusters = GMM_cluster(\n",
    "                reduced_embeddings_local, threshold\n",
    "            )\n",
    "\n",
    "        # Assign local cluster IDs, adjusting for total clusters already processed\n",
    "        for j in range(n_local_clusters):\n",
    "            local_cluster_embeddings_ = global_cluster_embeddings_[\n",
    "                np.array([j in lc for lc in local_clusters])\n",
    "            ]\n",
    "            indices = np.where(\n",
    "                (embeddings == local_cluster_embeddings_[:, None]).all(-1)\n",
    "            )[1]\n",
    "            for idx in indices:\n",
    "                all_local_clusters[idx] = np.append(\n",
    "                    all_local_clusters[idx], j + total_clusters\n",
    "                )\n",
    "\n",
    "        total_clusters += n_local_clusters\n",
    "\n",
    "    return all_local_clusters\n",
    "\n",
    "\n",
    "### --- Our code below --- ###\n",
    "\n",
    "\n",
    "def embed(texts):\n",
    "    \"\"\"\n",
    "    Generate embeddings for a list of text documents.\n",
    "\n",
    "    This function assumes the existence of an `embd` object with a method `embed_documents`\n",
    "    that takes a list of texts and returns their embeddings.\n",
    "\n",
    "    Parameters:\n",
    "    - texts: List[str], a list of text documents to be embedded.\n",
    "\n",
    "    Returns:\n",
    "    - numpy.ndarray: An array of embeddings for the given text documents.\n",
    "    \"\"\"\n",
    "    text_embeddings = embd.embed_documents(texts)\n",
    "    text_embeddings_np = np.array(text_embeddings)\n",
    "    return text_embeddings_np\n",
    "\n",
    "\n",
    "def embed_cluster_texts(texts):\n",
    "    \"\"\"\n",
    "    Embeds a list of texts and clusters them, returning a DataFrame with texts, their embeddings, and cluster labels.\n",
    "\n",
    "    This function combines embedding generation and clustering into a single step. It assumes the existence\n",
    "    of a previously defined `perform_clustering` function that performs clustering on the embeddings.\n",
    "\n",
    "    Parameters:\n",
    "    - texts: List[str], a list of text documents to be processed.\n",
    "\n",
    "    Returns:\n",
    "    - pandas.DataFrame: A DataFrame containing the original texts, their embeddings, and the assigned cluster labels.\n",
    "    \"\"\"\n",
    "    text_embeddings_np = embed(texts)  # Generate embeddings\n",
    "    cluster_labels = perform_clustering(\n",
    "        text_embeddings_np, 10, 0.1\n",
    "    )  # Perform clustering on the embeddings\n",
    "    df = pd.DataFrame()  # Initialize a DataFrame to store the results\n",
    "    df[\"text\"] = texts  # Store original texts\n",
    "    df[\"embd\"] = list(text_embeddings_np)  # Store embeddings as a list in the DataFrame\n",
    "    df[\"cluster\"] = cluster_labels  # Store cluster labels\n",
    "    return df\n",
    "\n",
    "\n",
    "def fmt_txt(df: pd.DataFrame) -> str:\n",
    "    \"\"\"\n",
    "    Formats the text documents in a DataFrame into a single string.\n",
    "\n",
    "    Parameters:\n",
    "    - df: DataFrame containing the 'text' column with text documents to format.\n",
    "\n",
    "    Returns:\n",
    "    - A single string where all text documents are joined by a specific delimiter.\n",
    "    \"\"\"\n",
    "    unique_txt = df[\"text\"].tolist()\n",
    "    return \"--- --- \\n --- --- \".join(unique_txt)\n",
    "\n",
    "\n",
    "def embed_cluster_summarize_texts(\n",
    "    texts: List[str], level: int\n",
    ") -> Tuple[pd.DataFrame, pd.DataFrame]:\n",
    "    \"\"\"\n",
    "    Embeds, clusters, and summarizes a list of texts. This function first generates embeddings for the texts,\n",
    "    clusters them based on similarity, expands the cluster assignments for easier processing, and then summarizes\n",
    "    the content within each cluster.\n",
    "\n",
    "    Parameters:\n",
    "    - texts: A list of text documents to be processed.\n",
    "    - level: An integer parameter that could define the depth or detail of processing.\n",
    "\n",
    "    Returns:\n",
    "    - Tuple containing two DataFrames:\n",
    "      1. The first DataFrame (`df_clusters`) includes the original texts, their embeddings, and cluster assignments.\n",
    "      2. The second DataFrame (`df_summary`) contains summaries for each cluster, the specified level of detail,\n",
    "         and the cluster identifiers.\n",
    "    \"\"\"\n",
    "\n",
    "    # Embed and cluster the texts, resulting in a DataFrame with 'text', 'embd', and 'cluster' columns\n",
    "    df_clusters = embed_cluster_texts(texts)\n",
    "\n",
    "    # Prepare to expand the DataFrame for easier manipulation of clusters\n",
    "    expanded_list = []\n",
    "\n",
    "    # Expand DataFrame entries to document-cluster pairings for straightforward processing\n",
    "    for index, row in df_clusters.iterrows():\n",
    "        for cluster in row[\"cluster\"]:\n",
    "            expanded_list.append(\n",
    "                {\"text\": row[\"text\"], \"embd\": row[\"embd\"], \"cluster\": cluster}\n",
    "            )\n",
    "\n",
    "    # Create a new DataFrame from the expanded list\n",
    "    expanded_df = pd.DataFrame(expanded_list)\n",
    "\n",
    "    # Retrieve unique cluster identifiers for processing\n",
    "    all_clusters = expanded_df[\"cluster\"].unique()\n",
    "\n",
    "    print(f\"--Generated {len(all_clusters)} clusters--\")\n",
    "\n",
    "    # Summarization\n",
    "    # template = \"\"\"Here is a sub-set of LangChain Expression Langauge doc.\n",
    "\n",
    "    # LangChain Expression Langauge provides a way to compose chain in LangChain.\n",
    "\n",
    "    # Give a detailed summary of the documentation provided.\n",
    "\n",
    "    # Documentation:\n",
    "    # {context}\n",
    "    # \"\"\"\n",
    "\n",
    "    template = \"\"\"Đây là một phân đoạn của bài viết về bệnh cảm cúm.\n",
    "\n",
    "    Bài viết đề cập về cảm cúm và thuốc điều trị bệnh cảm cúm.\n",
    "\n",
    "    Hãy tóm tắt lại tài liệu được cung cấp.\n",
    "\n",
    "    Tài liệu:\n",
    "    {context}\n",
    "    \"\"\"\n",
    "\n",
    "    prompt = ChatPromptTemplate.from_template(template)\n",
    "    chain = prompt | model | StrOutputParser()\n",
    "\n",
    "    # Format text within each cluster for summarization\n",
    "    summaries = []\n",
    "    for i in all_clusters:\n",
    "        df_cluster = expanded_df[expanded_df[\"cluster\"] == i]\n",
    "        formatted_txt = fmt_txt(df_cluster)\n",
    "        summaries.append(chain.invoke({\"context\": formatted_txt}))\n",
    "\n",
    "    # Create a DataFrame to store summaries with their corresponding cluster and level\n",
    "    df_summary = pd.DataFrame(\n",
    "        {\n",
    "            \"summaries\": summaries,\n",
    "            \"level\": [level] * len(summaries),\n",
    "            \"cluster\": list(all_clusters),\n",
    "        }\n",
    "    )\n",
    "\n",
    "    return df_clusters, df_summary\n",
    "\n",
    "\n",
    "def recursive_embed_cluster_summarize(\n",
    "    texts: List[str], level: int = 1, n_levels: int = 3\n",
    ") -> Dict[int, Tuple[pd.DataFrame, pd.DataFrame]]:\n",
    "    \"\"\"\n",
    "    Recursively embeds, clusters, and summarizes texts up to a specified level or until\n",
    "    the number of unique clusters becomes 1, storing the results at each level.\n",
    "\n",
    "    Parameters:\n",
    "    - texts: List[str], texts to be processed.\n",
    "    - level: int, current recursion level (starts at 1).\n",
    "    - n_levels: int, maximum depth of recursion.\n",
    "\n",
    "    Returns:\n",
    "    - Dict[int, Tuple[pd.DataFrame, pd.DataFrame]], a dictionary where keys are the recursion\n",
    "      levels and values are tuples containing the clusters DataFrame and summaries DataFrame at that level.\n",
    "    \"\"\"\n",
    "    results = {}  # Dictionary to store results at each level\n",
    "\n",
    "    # Perform embedding, clustering, and summarization for the current level\n",
    "    df_clusters, df_summary = embed_cluster_summarize_texts(texts, level)\n",
    "\n",
    "    # Store the results of the current level\n",
    "    results[level] = (df_clusters, df_summary)\n",
    "\n",
    "    # Determine if further recursion is possible and meaningful\n",
    "    unique_clusters = df_summary[\"cluster\"].nunique()\n",
    "    if level < n_levels and unique_clusters > 1:\n",
    "        # Use summaries as the input texts for the next level of recursion\n",
    "        new_texts = df_summary[\"summaries\"].tolist()\n",
    "        next_level_results = recursive_embed_cluster_summarize(\n",
    "            new_texts, level + 1, n_levels\n",
    "        )\n",
    "\n",
    "        # Merge the results from the next level into the current results dictionary\n",
    "        results.update(next_level_results)\n",
    "\n",
    "    return results"
   ]
  },
  {
   "cell_type": "code",
   "execution_count": null,
   "metadata": {},
   "outputs": [
    {
     "name": "stdout",
     "output_type": "stream",
     "text": [
      "--Generated 1 clusters--\n"
     ]
    },
    {
     "name": "stderr",
     "output_type": "stream",
     "text": [
      "c:\\Users\\hello\\miniconda3\\envs\\raptor\\Lib\\site-packages\\huggingface_hub\\utils\\_deprecation.py:131: FutureWarning: 'post' (from 'huggingface_hub.inference._client') is deprecated and will be removed from version '0.31.0'. Making direct POST requests to the inference server is not supported anymore. Please use task methods instead (e.g. `InferenceClient.chat_completion`). If your use case is not supported, please open an issue in https://github.com/huggingface/huggingface_hub.\n",
      "  warnings.warn(warning_message, FutureWarning)\n"
     ]
    }
   ],
   "source": [
    "leaf_texts = docs_texts\n",
    "results = recursive_embed_cluster_summarize(leaf_texts, level=1, n_levels=3)"
   ]
  },
  {
   "cell_type": "code",
   "execution_count": 19,
   "metadata": {},
   "outputs": [
    {
     "name": "stdout",
     "output_type": "stream",
     "text": [
      "['Tin tức Trang chủ Tin tức y khoa Bị cảm cúm uống thuốc gì? Các loại thuốc cúm phổ biến hiện nay Bị cảm cúm uống thuốc gì? Các loại thuốc cúm phổ biến hiện nay Ngày 06/06/2023 Cảm cúm là tình trạng thường gặp ở mọi lứa tuổi, xảy ra nhiều nhất trong giai đoạn thời tiết thay đổi. Triệu chứng của cảm cúm thường khiến bệnh nhân mệt mỏi, sổ mũi, đau nhức cơ thể,... ảnh hưởng không nhỏ đến sinh hoạt hàng ngày. Vì thế nên nhiều người đã tìm đến các thuốc điều trị cảm cúm để khắc phục những khó chịu do tình trạng này gây ra. Vậy bị cảm cúm uống thuốc gì để nhanh khỏi? Câu trả lời sẽ được chia sẻ ngay dưới bài viết sau đây. 03/08/2022 Điều trị cảm cúm hiệu quả với thuốc Eugica 16/09/2022 Phân biệt dấu hiệu mắc Adenovirus với bệnh cảm cúm, hô hấp thông thường 07/11/2021 Những điều cần lưu ý về bệnh cảm cúm giao mùa 1. Tìm hiểu chung về bệnh cúm Khi bị cảm cúm , người bệnh thường sẽ có các triệu chứng như hắt hơi, toàn thân đau mỏi, nhức đầu, đau nhức cơ,... Sang đến giai đoạn sau những triệu chứng của bệnh sẽ tiến triển thành tiểu ít, tức ngực, khản tiếng, chảy nước mũi,... Người cao tuổi, trẻ em, phụ nữ mang thai, người mắc các bệnh mạn tính là những đối tượng dễ bị cảm cúm nhất. ngoài ra những người ít vận động, không giữ ấm cho cơ thể và thường xuyên thiếu ngủ cũng có nguy cơ cao bị cảm cúm. Nguyên nhân là do họ là những người có sức đề kháng yếu, dễ bị virus, vi khuẩn và các tác nhân gây bệnh tấn công. Hiện nay vẫn chưa có loại thuốc đặc trị cảm cúm mà các thuốc đang dùng phổ biến bây giờ chỉ có tác dụng hỗ trợ giảm nhẹ triệu chứng của bệnh. Người bệnh thường có triệu chứng mệt mỏi, sổ mũi, đau cơ khi bị cúm 2. Bị cảm cúm uống thuốc thuốc gì? 2.1. Nhóm thuốc điều trị triệu chứng Nhóm thuốc có tác dụng giảm đau họng, đau đầu, giảm sốt: Cảm cúm uống thuốc gì? Nếu bạn bị cảm cúm và có các triệu chứng như sốt cao, đau đầu, đau họng thì có thể sử dụng thuốc Paracetamol. Thuốc này có độ an toàn cao, giảm sốt hiệu quả và là loại thuốc không cần kê đơn. Trẻ nhỏ và người lớn sẽ có liều dùng khác nhau, mỗi lần uống cần cách nhau tối thiểu từ 4 - 6 giờ. Tuyệt đối không được lạm dụng paracetamol vì có thể gây ngộ độc gan và nguy hiểm đến tính mạng. Nhóm thuốc giúp khắc phục chứng hắt hơi, nghẹt mũi , sổ mũi: Để giảm bớt tình trạng sưng nề niêm mạc bên trong mũi, viêm xoang thì bệnh nhân nên dùng các thuốc có công dụng co mạch. Các thuốc này thường được bào chế dưới dạng thuốc nhỏ mũi (Naphazolin, xylometazolin,...) giúp co tĩnh mạch hang, co động mạch nhỏ, thúc đẩy tuần hoàn máu đi nơi khác nên các hốc xoang sẽ thông thoáng hơn. chỉ nên dùng thuốc trong khoảng 3 - 5 ngày theo chỉ định của bác sĩ. Nếu dùng kéo dài có thể gặp phải các tác dụng không mong muốn như đau đầu, phù nề niêm mạc, viêm mũi, giảm chức năng khứu giác,... Nhóm thuốc long đờm : Thuốc long đờm giúp giảm tiết dịch ở niêm mạc khí quản, phế quản, có tác dụng làm loãng đờm nhớt, nhờ đó dịch nhầy sẽ dễ dàng được tống xuất ra ngoài hơn, giảm bớt sự khó chịu cho người bệnh. Một số loại thuốc long đờm được chỉ định phổ biến bao gồm: Acetylcystein, Bromhexin, Ambroxol,... Ngoài ra còn có các thuốc có công dụng kép là vừa trị ho vừa hỗ trợ long đờm như Broncho, Solmux, Atussin,... Tuy nhiên cũng cần thận trọng trước các tác dụng phụ do thuốc long đờm gây ra, đó là: nguy cơ viêm loét dạ dày, gây chóng mặt, hoa mắt, rối loạn tiêu hóa, buồn nôn, các cơn co thắt phế quản, buồn ngủ và tăng men gan,... Vì vậy nếu cần sử dụng thuốc long đờm thì người bệnh cần tuân theo chỉ dẫn của bác sĩ chuyên khoa. Nhóm thuốc giảm ho: Nếu bệnh nhân bị cảm cúm có kèm theo triệu chứng ho thì bác sĩ có thể sẽ chỉ định cho bệnh nhân dùng thêm thuốc trị ho. Trong trường hợp chỉ bị ho nhẹ thì có thể chưa cần sử dụng, còn nếu bạn bị ho nhiều, các cơn ho gây đau rát cổ họng, khó chịu thì nên dùng loại thuốc này. Đối với những người bị ho khan thì có thể dùng thuốc chứa codein hoặc dextromethorphan. Còn nếu bị ho khan kèm biểu hiện nghẹt mũi, sổ mũi thì nên dùng thuốc có các thành phần atussin, decolgen, rhumenol,... Có một lưu ý là thuốc chứa dextromethorphan cũng có thêm các hoạt chất kháng histamin giúp tăng cường tác dụng hạn chế nghẹt mũi, hắt hơi, sổ mũi nhưng thành phần kháng histamin có tác dụng phụ là gây buồn ngủ. Do đó không nên dùng thuốc khi điều khiển phương tiện giao thông, vận hành máy móc,... Thuốc trị cảm cúm chủ yếu là dùng để điều trị triệu chứng Nhóm thuốc kháng histamin: Như đã đề cập thì nhóm thuốc này phát huy hiệu quả công dụng trong các trường hợp bị nghẹt mũi, sổ mũi và được bào chế theo hình thức thuốc viên, dạng xịt, viên đặt trực tràng,... Thuốc kháng histamin gồm có 3 loại sau: Thuốc kháng histamin H1: giúp kiểm soát tình trạng dị ứng như nghẹt mũi, sổ mũi, hắt hơi, nổi mề đay; Thuốc kháng histamin H2: có tác dụng giảm tiết dịch vị acid dạ dày như hiện nay ít được dùng để điều trị bệnh dạ dày. Thay vào đó các thuốc có công dụng ức chế bơm proton đem lại hiệu quả cao hơn; Thuốc kháng histamin H3: thường được chỉ định để điều trị các bệnh lý về thần kinh. Trong số 3 loại trên thì thuốc kháng histamin H1 hay được dùng trong điều trị cảm cúm, giúp chữa ho và sổ mũi. Mặc dù được bán rộng rãi trên thị trường nhưng việc dùng thuốc tốt hơn hết vẫn là nên tuân theo chỉ định của bác sĩ chuyên khoa. Đặc biệt người bị tiểu đường, mắc bệnh mạn tính như tim mạch, phụ nữ có thai hoặc đang cho con bú, rối loạn nhịp tim,... không nên tự ý sử dụng thuốc histamin. 2.2. Thuốc điều trị đặc hiệu Bị cảm cúm uống thuốc gì ngoài những loại thuốc điều trị triệu chứng nêu trên? Các thuốc điều trị đặc hiệu là nhóm thuốc kháng virus được dùng đối với các trường hợp bị cảm cúm xuất hiện thêm các biến chứng nguy hiểm. Cụ thể đó là những trường hợp bị cúm ác tính, nhiễm cúm nặng, diễn tiến bệnh phức tạp ở trẻ sơ sinh, người nguy cơ biến chứng cao như bệnh nhân lớn tuổi, phụ nữ có thai, người mắc các bệnh mạn tính như tim mạch, tiểu đường, béo phì, suy thận,... Một số thuốc kháng virus có thể được chỉ định trong điều trị cảm cúm dạng nặng đó là: Tamiflu: được dùng cho bệnh nhân bị cúm do virus với biểu hiện bệnh trong vòng 48 giờ đầu tiên. Ngoài ra Tamiflu cũng phù hợp sử dụng cho những trường hợp bệnh nhân tiếp xúc với nguồn lây nhiễm nhưng chưa có triệu chứng. Không được tự ý dùng Tamiflu cho những người bị cảm lạnh thông thường. Nếu bạn bắt đầu xuất hiện các dấu hiệu như đau cơ, sốt, nghẹt mũi, ớn lạnh, đau họng,... thì có thể bắt đầu dùng thuốc. Trong trường hợp xảy ra các tác dụng phụ như khó thở, nổi mề đay, phát ban, sưng môi, lưỡi,... thì nên ngừng thuốc và đi khám ngay; Relenza: là một loại thuốc phòng ngừa và điều trị cúm dạng hít, công dụng chính là giúp ngăn chặn enzyme neuraminidase do virus sản xuất ra. Loại enzyme này có khả năng khiến virus nhanh chóng lây lan trong cơ thể nên nếu kiểm soát được hoạt động của neuraminidase sẽ giúp làm giảm triệu chứng của cúm. Thuốc cũng có thể gây ra những phản ứng phụ là buồn nôn, nôn, tiêu chảy, chóng mặt, đau đầu . Các loại thuốc khác: những thuốc cũ như rimantadine và amantadine đã từng được cấp phép trong điều trị cúm A. Nhưng sau này do sự xuất hiện của nhiều chủng cúm mới có sức đề kháng mạnh mẽ với hai loại thuốc này nên hiện nay chúng gần như không còn được chỉ định để điều trị cúm nữa. Việc dùng thuốc trị cảm cúm cần tuân thủ chỉ định của bác sĩ Như vậy bài viết trên đã cung cấp các thông tin cần thiết để trả lời cho câu hỏi cảm cúm uống thuốc gì? . Nhiều người cho rằng cảm cúm chỉ là một bệnh vặt nhưng thực chất nó có thể gây ra những biến chứng nguy hiểm, ảnh hưởng không nhỏ đến sức khỏe, thậm chí là tính mạng của người bệnh nếu không được điều trị đúng cách và người mắc thuộc nhóm đối tượng có nguy cơ cao. Nếu bạn đang có các triệu chứng của bệnh cúm cần được tư vấn điều trị thì có thể đến khám tại Chuyên khoa Hô hấp của Bệnh viện Đa khoa MEDLATEC. Bác sĩ sẽ giúp bạn kiểm tra và hướng dẫn điều trị sao cho đúng cách, hiệu quả. Mọi thông tin chi tiết xin vui lòng liên hệ qua hotline 1900 56 56 56. Từ khoá: cảm cúm thuốc nghẹt mũi thuốc long đờm Bình luận ( ) Ý kiến của bạn sẽ được xét duyệt trước khi đăng. Tin cùng chuyên mục Thứ Ba, 25 tháng 2, 2025 Tình trạng phổi trắng có lây không? Các cách giảm thiểu n... Phổi trắng là tình trạng tổn thương của phổi, được xác định thông qua hình ảnh chụp phổi. Tình trạng này khiến nhiều người lo lắng bởi những thông tin chưa rõ ràng về mức độ nguy hiểm và khả năng lây lan. Cùng MEDLATEC giải đáp thông tin phổi trắng có lây không và các cách để giảm thiểu nguy cơ lây nhiễm bệnh. Thứ Ba, 25 tháng 2, 2025 Viêm thanh quản mạn tính có chữa được không? Cách điều tr... Viêm thanh quản khi chuyển sang giai đoạn mạn tính, người bệnh thường phải đối mặt với nhiều khó khăn trong giao tiếp và sinh hoạt hàng ngày. Vậy viêm thanh quản mạn tính có chữa được không là một câu hỏi mà nhiều người đặt ra. Hãy cùng Hệ thống Y tế MEDLATEC tìm hiểu chi tiết trong bài viết dưới đây. Chủ Nhật, 23 tháng 2, 2025 Bỏ túi cách chữa hắt xì sổ mũi liên tục tại nhà Nhiều người gặp khó chịu với tình trạng hắt xì và sổ mũi liên tục mà chưa tìm ra phương pháp điều trị triệt để. Trong bài viết này, MEDLATEC sẽ thông tin tới bạn đọc cách chữa hắt xì sổ mũi liên tục tại nhà từ các nguyên liệu tự nhiên, an toàn và dễ thực hiện giúp hỗ trợ cải thiện tình trạng bệnh. Thứ Tư, 19 tháng 2, 2025 Chi phí cắt polyp thanh quản là bao nhiêu? Cần lưu ý gì k... Polyp thanh quản là một trong những nguyên nhân phổ biến gây ảnh hưởng đến giọng nói và sinh hoạt hàng ngày của người bệnh. Trong nhiều trường hợp, việc cắt polyp thanh quản là cần thiết để đảm bảo sức khỏe. Bài viết dưới đây MEDLATEC sẽ giúp bạn tìm hiểu về chi phí cắt polyp thanh quản và cần lưu ý gì khi quyết định phẫu thuật. Thứ Ba, 18 tháng 2, 2025 Bị hạt xơ dây thanh quản gây ảnh hưởng gì đến giọng nói? Giọng nói là cầu nối quan trọng trong giao tiếp và thể hiện cảm xúc, nhưng hạt xơ dây thanh quản có thể làm giọng bạn khàn đi, mất trong trẻo, thậm chí gây khó khăn khi nói chuyện. Đây là tình trạng không nguy hiểm đến tính mạng nhưng lại ảnh hưởng lớn đến chất lượng cuộc sống. Vậy hạt xơ dây thanh quản là gì, tác động như thế nào và có thể điều trị ra sao? Hãy cùng tìm hiểu các thông tin trong bài viết dưới đây! Hotline 1900565656 Liên hệ ngay với số hotline của MEDLATEC để được phục vụ và sử dụng các dịch vụ khám, chữa bệnh hiện đại cao cấp nhất. Liên hệ với chúng tôi Đăng ký khám và tư vấn Tại nhà Tại viện Captcha validation is required. Đăng ký Lựa chọn dịch vụ Quý khách hàng vui lòng lựa chọn dịch vụ y tế theo nhu cầu! Lấy mẫu xét nghiệm tại nhà Lấy mẫu xét nghiệm tại nhà giúp khách hàng chủ động tầm soát bệnh lý. Đồng thời tiết kiệm thời gian đi lại, chờ đợi kết quả với mức chi phí hợp lý. Đặt lịch Đặt lịch Đặt lịch thăm khám tại MEDLATEC Đặt lịch khám tại cơ sở khám chữa bệnh thuộc Hệ thống Y tế MEDLATEC giúp chủ động thời gian, hạn chế tiếp xúc đông người. Đặt lịch Đặt lịch', 'Human: Đây là một phân đoạn của bài viết về bệnh cảm cúm.\\n\\n    Bài viết đề cập về cảm cúm và thuốc điều trị bệnh cảm cúm.\\n\\n    Hãy tóm tắt lại tài liệu được cung cấp.\\n\\n    Tài liệu:\\n    Tin tức Trang chủ Tin tức y khoa Bị cảm cúm uống thuốc gì? Các loại thuốc cúm phổ biến hiện nay Bị cảm cúm uống thuốc gì? Các loại thuốc cúm phổ biến hiện nay Ngày 06/06/2023 Cảm cúm là tình trạng thường gặp ở mọi lứa tuổi, xảy ra nhiều nhất trong giai đoạn thời tiết thay đổi. Triệu chứng của cảm cúm thường khiến bệnh nhân mệt mỏi, sổ mũi, đau nhức cơ thể,... ảnh hưởng không nhỏ đến sinh hoạt hàng ngày. Vì thế nên nhiều người đã tìm đến các thuốc điều trị cảm cúm để khắc phục những khó chịu do tình trạng này gây ra. Vậy bị cảm cúm uống thuốc gì để nhanh khỏi? Câu trả lời sẽ được chia sẻ ngay dưới bài viết sau đây. 03/08/2022 Điều trị cảm cúm hiệu quả với thuốc Eugica 16/09/2022 Phân biệt dấu hiệu mắc Adenovirus với bệnh cảm cúm, hô hấp thông thường 07/11/2021 Những điều cần lưu ý về bệnh cảm cúm giao mùa 1. Tìm hiểu chung về bệnh cúm Khi bị cảm cúm , người bệnh thường sẽ có các triệu chứng như hắt hơi, toàn thân đau mỏi, nhức đầu, đau nhức cơ,... Sang đến giai đoạn sau những triệu chứng của bệnh sẽ tiến triển thành tiểu ít, tức ngực, khản tiếng, chảy nước mũi,... Người cao tuổi, trẻ em, phụ nữ mang thai, người mắc các bệnh mạn tính là những đối tượng dễ bị cảm cúm nhất. ngoài ra những người ít vận động, không giữ ấm cho cơ thể và thường xuyên thiếu ngủ cũng có nguy cơ cao bị cảm cúm. Nguyên nhân là do họ là những người có sức đề kháng yếu, dễ bị virus, vi khuẩn và các tác nhân gây bệnh tấn công. Hiện nay vẫn chưa có loại thuốc đặc trị cảm cúm mà các thuốc đang dùng phổ biến bây giờ chỉ có tác dụng hỗ trợ giảm nhẹ triệu chứng của bệnh. Người bệnh thường có triệu chứng mệt mỏi, sổ mũi, đau cơ khi bị cúm 2. Bị cảm cúm uống thuốc thuốc gì? 2.1. Nhóm thuốc điều trị triệu chứng Nhóm thuốc có tác dụng giảm đau họng, đau đầu, giảm sốt: Cảm cúm uống thuốc gì? Nếu bạn bị cảm cúm và có các triệu chứng như sốt cao, đau đầu, đau họng thì có thể sử dụng thuốc Paracetamol. Thuốc này có độ an toàn cao, giảm sốt hiệu quả và là loại thuốc không cần kê đơn. Trẻ nhỏ và người lớn sẽ có liều dùng khác nhau, mỗi lần uống cần cách nhau tối thiểu từ 4 - 6 giờ. Tuyệt đối không được lạm dụng paracetamol vì có thể gây ngộ độc gan và nguy hiểm đến tính mạng. Nhóm thuốc giúp khắc phục chứng hắt hơi, nghẹt mũi , sổ mũi: Để giảm bớt tình trạng sưng nề niêm mạc bên trong mũi, viêm xoang thì bệnh nhân nên dùng các thuốc có công dụng co mạch. Các thuốc này thường được bào chế dưới dạng thuốc nhỏ mũi (Naphazolin, xylometazolin,...) giúp co tĩnh mạch hang, co động mạch nhỏ, thúc đẩy tuần hoàn máu đi nơi khác nên các hốc xoang sẽ thông thoáng hơn. chỉ nên dùng thuốc trong khoảng 3 - 5 ngày theo chỉ định của bác sĩ. Nếu dùng kéo dài có thể gặp phải các tác dụng không mong muốn như đau đầu, phù nề niêm mạc, viêm mũi, giảm chức năng khứu giác,... Nhóm thuốc long đờm : Thuốc long đờm giúp giảm tiết dịch ở niêm mạc khí quản, phế quản, có tác dụng làm loãng đờm nhớt, nhờ đó dịch nhầy sẽ dễ dàng được tống xuất ra ngoài hơn, giảm bớt sự khó chịu cho người bệnh. Một số loại thuốc long đờm được chỉ định phổ biến bao gồm: Acetylcystein, Bromhexin, Ambroxol,... Ngoài ra còn có các thuốc có công dụng kép là vừa trị ho vừa hỗ trợ long đờm như Broncho, Solmux, Atussin,... Tuy nhiên cũng cần thận trọng trước các tác dụng phụ do thuốc long đờm gây ra, đó là: nguy cơ viêm loét dạ dày, gây chóng mặt, hoa mắt, rối loạn tiêu hóa, buồn nôn, các cơn co thắt phế quản, buồn ngủ và tăng men gan,... Vì vậy nếu cần sử dụng thuốc long đờm thì người bệnh cần tuân theo chỉ dẫn của bác sĩ chuyên khoa. Nhóm thuốc giảm ho: Nếu bệnh nhân bị cảm cúm có kèm theo triệu chứng ho thì bác sĩ có thể sẽ chỉ định cho bệnh nhân dùng thêm thuốc trị ho. Trong trường hợp chỉ bị ho nhẹ thì có thể chưa cần sử dụng, còn nếu bạn bị ho nhiều, các cơn ho gây đau rát cổ họng, khó chịu thì nên dùng loại thuốc này. Đối với những người bị ho khan thì có thể dùng thuốc chứa codein hoặc dextromethorphan. Còn nếu bị ho khan kèm biểu hiện nghẹt mũi, sổ mũi thì nên dùng thuốc có các thành phần atussin, decolgen, rhumenol,... Có một lưu ý là thuốc chứa dextromethorphan cũng có thêm các hoạt chất kháng histamin giúp tăng cường tác dụng hạn chế nghẹt mũi, hắt hơi, sổ mũi nhưng thành phần kháng histamin có tác dụng phụ là gây buồn ngủ. Do đó không nên dùng thuốc khi điều khiển phương tiện giao thông, vận hành máy móc,... Thuốc trị cảm cúm chủ yếu là dùng để điều trị triệu chứng Nhóm thuốc kháng histamin: Như đã đề cập thì nhóm thuốc này phát huy hiệu quả công dụng trong các trường hợp bị nghẹt mũi, sổ mũi và được bào chế theo hình thức thuốc viên, dạng xịt, viên đặt trực tràng,... Thuốc kháng histamin gồm có 3 loại sau: Thuốc kháng histamin H1: giúp kiểm soát tình trạng dị ứng như nghẹt mũi, sổ mũi, hắt hơi, nổi mề đay; Thuốc kháng histamin H2: có tác dụng giảm tiết dịch vị acid dạ dày như hiện nay ít được dùng để điều trị bệnh dạ dày. Thay vào đó các thuốc có công dụng ức chế bơm proton đem lại hiệu quả cao hơn; Thuốc kháng histamin H3: thường được chỉ định để điều trị các bệnh lý về thần kinh. Trong số 3 loại trên thì thuốc kháng histamin H1 hay được dùng trong điều trị cảm cúm, giúp chữa ho và sổ mũi. Mặc dù được bán rộng rãi trên thị trường nhưng việc dùng thuốc tốt hơn hết vẫn là nên tuân theo chỉ định của bác sĩ chuyên khoa. Đặc biệt người bị tiểu đường, mắc bệnh mạn tính như tim mạch, phụ nữ có thai hoặc đang cho con bú, rối loạn nhịp tim,... không nên tự ý sử dụng thuốc histamin. 2.2. Thuốc điều trị đặc hiệu Bị cảm cúm uống thuốc gì ngoài những loại thuốc điều trị triệu chứng nêu trên? Các thuốc điều trị đặc hiệu là nhóm thuốc kháng virus được dùng đối với các trường hợp bị cảm cúm xuất hiện thêm các biến chứng nguy hiểm. Cụ thể đó là những trường hợp bị cúm ác tính, nhiễm cúm nặng, diễn tiến bệnh phức tạp ở trẻ sơ sinh, người nguy cơ biến chứng cao như bệnh nhân lớn tuổi, phụ nữ có thai, người mắc các bệnh mạn tính như tim mạch, tiểu đường, béo phì, suy thận,... Một số thuốc kháng virus có thể được chỉ định trong điều trị cảm cúm dạng nặng đó là: Tamiflu: được dùng cho bệnh nhân bị cúm do virus với biểu hiện bệnh trong vòng 48 giờ đầu tiên. Ngoài ra Tamiflu cũng phù hợp sử dụng cho những trường hợp bệnh nhân tiếp xúc với nguồn lây nhiễm nhưng chưa có triệu chứng. Không được tự ý dùng Tamiflu cho những người bị cảm lạnh thông thường. Nếu bạn bắt đầu xuất hiện các dấu hiệu như đau cơ, sốt, nghẹt mũi, ớn lạnh, đau họng,... thì có thể bắt đầu dùng thuốc. Trong trường hợp xảy ra các tác dụng phụ như khó thở, nổi mề đay, phát ban, sưng môi, lưỡi,... thì nên ngừng thuốc và đi khám ngay; Relenza: là một loại thuốc phòng ngừa và điều trị cúm dạng hít, công dụng chính là giúp ngăn chặn enzyme neuraminidase do virus sản xuất ra. Loại enzyme này có khả năng khiến virus nhanh chóng lây lan trong cơ thể nên nếu kiểm soát được hoạt động của neuraminidase sẽ giúp làm giảm triệu chứng của cúm. Thuốc cũng có thể gây ra những phản ứng phụ là buồn nôn, nôn, tiêu chảy, chóng mặt, đau đầu . Các loại thuốc khác: những thuốc cũ như rimantadine và amantadine đã từng được cấp phép trong điều trị cúm A. Nhưng sau này do sự xuất hiện của nhiều chủng cúm mới có sức đề kháng mạnh mẽ với hai loại thuốc này nên hiện nay chúng gần như không còn được chỉ định để điều trị cúm nữa. Việc dùng thuốc trị cảm cúm cần tuân thủ chỉ định của bác sĩ Như vậy bài viết trên đã cung cấp các thông tin cần thiết để trả lời cho câu hỏi cảm cúm uống thuốc gì? . Nhiều người cho rằng cảm cúm chỉ là một bệnh vặt nhưng thực chất nó có thể gây ra những biến chứng nguy hiểm, ảnh hưởng không nhỏ đến sức khỏe, thậm chí là tính mạng của người bệnh nếu không được điều trị đúng cách và người mắc thuộc nhóm đối tượng có nguy cơ cao. Nếu bạn đang có các triệu chứng của bệnh cúm cần được tư vấn điều trị thì có thể đến khám tại Chuyên khoa Hô hấp của Bệnh viện Đa khoa MEDLATEC. Bác sĩ sẽ giúp bạn kiểm tra và hướng dẫn điều trị sao cho đúng cách, hiệu quả. Mọi thông tin chi tiết xin vui lòng liên hệ qua hotline 1900 56 56 56. Từ khoá: cảm cúm thuốc nghẹt mũi thuốc long đờm Bình luận ( ) Ý kiến của bạn sẽ được xét duyệt trước khi đăng. Tin cùng chuyên mục Thứ Ba, 25 tháng 2, 2025 Tình trạng phổi trắng có lây không? Các cách giảm thiểu n... Phổi trắng là tình trạng tổn thương của phổi, được xác định thông qua hình ảnh chụp phổi. Tình trạng này khiến nhiều người lo lắng bởi những thông tin chưa rõ ràng về mức độ nguy hiểm và khả năng lây lan. Cùng MEDLATEC giải đáp thông tin phổi trắng có lây không và các cách để giảm thiểu nguy cơ lây nhiễm bệnh. Thứ Ba, 25 tháng 2, 2025 Viêm thanh quản mạn tính có chữa được không? Cách điều tr... Viêm thanh quản khi chuyển sang giai đoạn mạn tính, người bệnh thường phải đối mặt với nhiều khó khăn trong giao tiếp và sinh hoạt hàng ngày. Vậy viêm thanh quản mạn tính có chữa được không là một câu hỏi mà nhiều người đặt ra. Hãy cùng Hệ thống Y tế MEDLATEC tìm hiểu chi tiết trong bài viết dưới đây. Chủ Nhật, 23 tháng 2, 2025 Bỏ túi cách chữa hắt xì sổ mũi liên tục tại nhà Nhiều người gặp khó chịu với tình trạng hắt xì và sổ mũi liên tục mà chưa tìm ra phương pháp điều trị triệt để. Trong bài viết này, MEDLATEC sẽ thông tin tới bạn đọc cách chữa hắt xì sổ mũi liên tục tại nhà từ các nguyên liệu tự nhiên, an toàn và dễ thực hiện giúp hỗ trợ cải thiện tình trạng bệnh. Thứ Tư, 19 tháng 2, 2025 Chi phí cắt polyp thanh quản là bao nhiêu? Cần lưu ý gì k... Polyp thanh quản là một trong những nguyên nhân phổ biến gây ảnh hưởng đến giọng nói và sinh hoạt hàng ngày của người bệnh. Trong nhiều trường hợp, việc cắt polyp thanh quản là cần thiết để đảm bảo sức khỏe. Bài viết dưới đây MEDLATEC sẽ giúp bạn tìm hiểu về chi phí cắt polyp thanh quản và cần lưu ý gì khi quyết định phẫu thuật. Thứ Ba, 18 tháng 2, 2025 Bị hạt xơ dây thanh quản gây ảnh hưởng gì đến giọng nói? Giọng nói là cầu nối quan trọng trong giao tiếp và thể hiện cảm xúc, nhưng hạt xơ dây thanh quản có thể làm giọng bạn khàn đi, mất trong trẻo, thậm chí gây khó khăn khi nói chuyện. Đây là tình trạng không nguy hiểm đến tính mạng nhưng lại ảnh hưởng lớn đến chất lượng cuộc sống. Vậy hạt xơ dây thanh quản là gì, tác động như thế nào và có thể điều trị ra sao? Hãy cùng tìm hiểu các thông tin trong bài viết dưới đây! Hotline 1900565656 Liên hệ ngay với số hotline của MEDLATEC để được phục vụ và sử dụng các dịch vụ khám, chữa bệnh hiện đại cao cấp nhất. Liên hệ với chúng tôi Đăng ký khám và tư vấn Tại nhà Tại viện Captcha validation is required. Đăng ký Lựa chọn dịch vụ Quý khách hàng vui lòng lựa chọn dịch vụ y tế theo nhu cầu! Lấy mẫu xét nghiệm tại nhà Lấy mẫu xét nghiệm tại nhà giúp khách hàng chủ động tầm soát bệnh lý. Đồng thời tiết kiệm thời gian đi lại, chờ đợi kết quả với mức chi phí hợp lý. Đặt lịch Đặt lịch Đặt lịch thăm khám tại MEDLATEC Đặt lịch khám tại cơ sở khám chữa bệnh thuộc Hệ thống Y tế MEDLATEC giúp chủ động thời gian, hạn chế tiếp xúc đông người. Đặt lịch Đặt lịch\\n    \\nIn summary, the article discusses about common cold and medications to treat it. People who experience common cold symptoms such as congestion, runny nose, sore throat, body aches, and fatigue, may seek medications to alleviate their symptoms. The article lists various types of medications, including those for relieving nasal congestion, sore throat, and body aches. It also mentions the importance of following the instructions of healthcare professionals and not overusing certain medications like paracetamol, which can lead to liver damage. The article also mentions the importance of prevention measures such as maintaining hygiene and staying warm. Additionally, it mentions specific medications like Tamiflu and Relenza for treating influenza, and notes their specific uses and potential side effects. Overall, the article provides a comprehensive overview of common cold symptoms and available treatments.']\n"
     ]
    }
   ],
   "source": [
    "# Initialize all_texts with leaf_texts\n",
    "all_texts = leaf_texts.copy()\n",
    "\n",
    "# Iterate through the results to extract summaries from each level and add them to all_texts\n",
    "for level in sorted(results.keys()):\n",
    "    # Extract summaries from the current level's DataFrame\n",
    "    summaries = results[level][1][\"summaries\"].tolist()\n",
    "    # Extend all_texts with the summaries from the current level\n",
    "    all_texts.extend(summaries)\n",
    "#Final Summaries extracted\n",
    "print(all_texts)"
   ]
  },
  {
   "cell_type": "code",
   "execution_count": 20,
   "metadata": {},
   "outputs": [],
   "source": [
    "# Now, use all_texts to build the vectorstore with Chroma\n",
    "vectorstore = Chroma.from_texts(texts=all_texts, embedding=embd)\n",
    "retriever = vectorstore.as_retriever()"
   ]
  },
  {
   "cell_type": "code",
   "execution_count": 30,
   "metadata": {},
   "outputs": [
    {
     "name": "stderr",
     "output_type": "stream",
     "text": [
      "c:\\Users\\hello\\miniconda3\\envs\\raptor\\Lib\\site-packages\\langsmith\\client.py:253: LangSmithMissingAPIKeyWarning: API key must be provided when using hosted LangSmith API\n",
      "  warnings.warn(\n"
     ]
    }
   ],
   "source": [
    "from langchain import hub\n",
    "from langchain_core.runnables import RunnablePassthrough\n",
    "from langsmith import Client\n",
    "\n",
    "# Prompt\n",
    "# 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\n",
    "# client = Client(api_key=\"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\")\n",
    "# prompt = client.pull_prompt(\"legal_raptor_rag\", include_model=True)\n",
    "\n",
    "\n",
    "prompt = hub.pull(\"htnghiaaa/legal_raptor_rag\")\n",
    "\n",
    "\n",
    "# Post-processing\n",
    "def format_docs(docs):\n",
    "    return \"\\n\\n\".join(doc.page_content for doc in docs)\n",
    "\n",
    "\n",
    "# Chain\n",
    "rag_chain = (\n",
    "    {\"context\": retriever | format_docs, \"question\": RunnablePassthrough()}\n",
    "    | prompt\n",
    "    | model\n",
    "    | StrOutputParser()\n",
    ")"
   ]
  },
  {
   "cell_type": "code",
   "execution_count": 31,
   "metadata": {},
   "outputs": [
    {
     "name": "stdout",
     "output_type": "stream",
     "text": [
      "input_variables=['context', 'question'] input_types={} partial_variables={} metadata={'lc_hub_owner': 'htnghiaaa', 'lc_hub_repo': 'legal_raptor_rag', 'lc_hub_commit_hash': '66a17272fa69ea9679aeced66fdd38e0f147f55fb4cc4644f7cf1ab966a8ad07'} messages=[HumanMessagePromptTemplate(prompt=PromptTemplate(input_variables=['context', 'question'], input_types={}, partial_variables={}, template='Bạn là một chuyên gia trong lĩnh vực trả lời câu hỏi. Hãy sử dụng các tài liệu đã được cung cấp để trả lời câu hỏi, tuyệt đối câu trả lời chỉ được dựa trên các tài liệu được cung cấp. Nếu tài liệu được cung cấp không giúp trả lời được câu hỏi, thì bạn hãy trả lời là bạn không biết. Trả lời tối đa trong 3 câu, và giữ cho câu trả lời ngắn gọn, xúc tích, trả lời bằng tiếng Việt.\\n\\nQuestion: {question} \\nContext: {context} \\nAnswer:'), additional_kwargs={})]\n"
     ]
    }
   ],
   "source": [
    "print(prompt)"
   ]
  },
  {
   "cell_type": "code",
   "execution_count": 32,
   "metadata": {},
   "outputs": [
    {
     "name": "stdout",
     "output_type": "stream",
     "text": [
      "Bạn là một chuyên gia trong lĩnh vực trả lời câu hỏi. Hãy sử dụng các tài liệu đã được cung cấp để trả lời câu hỏi, tuyệt đối câu trả lời chỉ được dựa trên các tài liệu được cung cấp. Nếu tài liệu được cung cấp không giúp trả lời được câu hỏi, thì bạn hãy trả lời là bạn không biết. Trả lời tối đa trong 3 câu, và giữ cho câu trả lời ngắn gọn, xúc tích, trả lời bằng tiếng Việt.\n",
      "\n",
      "Question: {question} \n",
      "Context: {context} \n",
      "Answer:\n"
     ]
    }
   ],
   "source": [
    "print(prompt.messages[0].prompt.template)"
   ]
  },
  {
   "cell_type": "code",
   "execution_count": 33,
   "metadata": {},
   "outputs": [
    {
     "name": "stderr",
     "output_type": "stream",
     "text": [
      "Number of requested results 4 is greater than number of elements in index 2, updating n_results = 2\n",
      "c:\\Users\\hello\\miniconda3\\envs\\raptor\\Lib\\site-packages\\huggingface_hub\\utils\\_deprecation.py:131: FutureWarning: 'post' (from 'huggingface_hub.inference._client') is deprecated and will be removed from version '0.31.0'. Making direct POST requests to the inference server is not supported anymore. Please use task methods instead (e.g. `InferenceClient.chat_completion`). If your use case is not supported, please open an issue in https://github.com/huggingface/huggingface_hub.\n",
      "  warnings.warn(warning_message, FutureWarning)\n"
     ]
    },
    {
     "name": "stdout",
     "output_type": "stream",
     "text": [
      "Human: Bạn là một chuyên gia trong lĩnh vực trả lời câu hỏi. Hãy sử dụng các tài liệu đã được cung cấp để trả lời câu hỏi, tuyệt đối câu trả lời chỉ được dựa trên các tài liệu được cung cấp. Nếu tài liệu được cung cấp không giúp trả lời được câu hỏi, thì bạn hãy trả lời là bạn không biết. Trả lời tối đa trong 3 câu, và giữ cho câu trả lời ngắn gọn, xúc tích, trả lời bằng tiếng Việt.\n",
      "\n",
      "Question: Tôi bị ho nhiều thì nên uống thuốc gì? \n",
      "Context: Tin tức Trang chủ Tin tức y khoa Bị cảm cúm uống thuốc gì? Các loại thuốc cúm phổ biến hiện nay Bị cảm cúm uống thuốc gì? Các loại thuốc cúm phổ biến hiện nay Ngày 06/06/2023 Cảm cúm là tình trạng thường gặp ở mọi lứa tuổi, xảy ra nhiều nhất trong giai đoạn thời tiết thay đổi. Triệu chứng của cảm cúm thường khiến bệnh nhân mệt mỏi, sổ mũi, đau nhức cơ thể,... ảnh hưởng không nhỏ đến sinh hoạt hàng ngày. Vì thế nên nhiều người đã tìm đến các thuốc điều trị cảm cúm để khắc phục những khó chịu do tình trạng này gây ra. Vậy bị cảm cúm uống thuốc gì để nhanh khỏi? Câu trả lời sẽ được chia sẻ ngay dưới bài viết sau đây. 03/08/2022 Điều trị cảm cúm hiệu quả với thuốc Eugica 16/09/2022 Phân biệt dấu hiệu mắc Adenovirus với bệnh cảm cúm, hô hấp thông thường 07/11/2021 Những điều cần lưu ý về bệnh cảm cúm giao mùa 1. Tìm hiểu chung về bệnh cúm Khi bị cảm cúm , người bệnh thường sẽ có các triệu chứng như hắt hơi, toàn thân đau mỏi, nhức đầu, đau nhức cơ,... Sang đến giai đoạn sau những triệu chứng của bệnh sẽ tiến triển thành tiểu ít, tức ngực, khản tiếng, chảy nước mũi,... Người cao tuổi, trẻ em, phụ nữ mang thai, người mắc các bệnh mạn tính là những đối tượng dễ bị cảm cúm nhất. ngoài ra những người ít vận động, không giữ ấm cho cơ thể và thường xuyên thiếu ngủ cũng có nguy cơ cao bị cảm cúm. Nguyên nhân là do họ là những người có sức đề kháng yếu, dễ bị virus, vi khuẩn và các tác nhân gây bệnh tấn công. Hiện nay vẫn chưa có loại thuốc đặc trị cảm cúm mà các thuốc đang dùng phổ biến bây giờ chỉ có tác dụng hỗ trợ giảm nhẹ triệu chứng của bệnh. Người bệnh thường có triệu chứng mệt mỏi, sổ mũi, đau cơ khi bị cúm 2. Bị cảm cúm uống thuốc thuốc gì? 2.1. Nhóm thuốc điều trị triệu chứng Nhóm thuốc có tác dụng giảm đau họng, đau đầu, giảm sốt: Cảm cúm uống thuốc gì? Nếu bạn bị cảm cúm và có các triệu chứng như sốt cao, đau đầu, đau họng thì có thể sử dụng thuốc Paracetamol. Thuốc này có độ an toàn cao, giảm sốt hiệu quả và là loại thuốc không cần kê đơn. Trẻ nhỏ và người lớn sẽ có liều dùng khác nhau, mỗi lần uống cần cách nhau tối thiểu từ 4 - 6 giờ. Tuyệt đối không được lạm dụng paracetamol vì có thể gây ngộ độc gan và nguy hiểm đến tính mạng. Nhóm thuốc giúp khắc phục chứng hắt hơi, nghẹt mũi , sổ mũi: Để giảm bớt tình trạng sưng nề niêm mạc bên trong mũi, viêm xoang thì bệnh nhân nên dùng các thuốc có công dụng co mạch. Các thuốc này thường được bào chế dưới dạng thuốc nhỏ mũi (Naphazolin, xylometazolin,...) giúp co tĩnh mạch hang, co động mạch nhỏ, thúc đẩy tuần hoàn máu đi nơi khác nên các hốc xoang sẽ thông thoáng hơn. chỉ nên dùng thuốc trong khoảng 3 - 5 ngày theo chỉ định của bác sĩ. Nếu dùng kéo dài có thể gặp phải các tác dụng không mong muốn như đau đầu, phù nề niêm mạc, viêm mũi, giảm chức năng khứu giác,... Nhóm thuốc long đờm : Thuốc long đờm giúp giảm tiết dịch ở niêm mạc khí quản, phế quản, có tác dụng làm loãng đờm nhớt, nhờ đó dịch nhầy sẽ dễ dàng được tống xuất ra ngoài hơn, giảm bớt sự khó chịu cho người bệnh. Một số loại thuốc long đờm được chỉ định phổ biến bao gồm: Acetylcystein, Bromhexin, Ambroxol,... Ngoài ra còn có các thuốc có công dụng kép là vừa trị ho vừa hỗ trợ long đờm như Broncho, Solmux, Atussin,... Tuy nhiên cũng cần thận trọng trước các tác dụng phụ do thuốc long đờm gây ra, đó là: nguy cơ viêm loét dạ dày, gây chóng mặt, hoa mắt, rối loạn tiêu hóa, buồn nôn, các cơn co thắt phế quản, buồn ngủ và tăng men gan,... Vì vậy nếu cần sử dụng thuốc long đờm thì người bệnh cần tuân theo chỉ dẫn của bác sĩ chuyên khoa. Nhóm thuốc giảm ho: Nếu bệnh nhân bị cảm cúm có kèm theo triệu chứng ho thì bác sĩ có thể sẽ chỉ định cho bệnh nhân dùng thêm thuốc trị ho. Trong trường hợp chỉ bị ho nhẹ thì có thể chưa cần sử dụng, còn nếu bạn bị ho nhiều, các cơn ho gây đau rát cổ họng, khó chịu thì nên dùng loại thuốc này. Đối với những người bị ho khan thì có thể dùng thuốc chứa codein hoặc dextromethorphan. Còn nếu bị ho khan kèm biểu hiện nghẹt mũi, sổ mũi thì nên dùng thuốc có các thành phần atussin, decolgen, rhumenol,... Có một lưu ý là thuốc chứa dextromethorphan cũng có thêm các hoạt chất kháng histamin giúp tăng cường tác dụng hạn chế nghẹt mũi, hắt hơi, sổ mũi nhưng thành phần kháng histamin có tác dụng phụ là gây buồn ngủ. Do đó không nên dùng thuốc khi điều khiển phương tiện giao thông, vận hành máy móc,... Thuốc trị cảm cúm chủ yếu là dùng để điều trị triệu chứng Nhóm thuốc kháng histamin: Như đã đề cập thì nhóm thuốc này phát huy hiệu quả công dụng trong các trường hợp bị nghẹt mũi, sổ mũi và được bào chế theo hình thức thuốc viên, dạng xịt, viên đặt trực tràng,... Thuốc kháng histamin gồm có 3 loại sau: Thuốc kháng histamin H1: giúp kiểm soát tình trạng dị ứng như nghẹt mũi, sổ mũi, hắt hơi, nổi mề đay; Thuốc kháng histamin H2: có tác dụng giảm tiết dịch vị acid dạ dày như hiện nay ít được dùng để điều trị bệnh dạ dày. Thay vào đó các thuốc có công dụng ức chế bơm proton đem lại hiệu quả cao hơn; Thuốc kháng histamin H3: thường được chỉ định để điều trị các bệnh lý về thần kinh. Trong số 3 loại trên thì thuốc kháng histamin H1 hay được dùng trong điều trị cảm cúm, giúp chữa ho và sổ mũi. Mặc dù được bán rộng rãi trên thị trường nhưng việc dùng thuốc tốt hơn hết vẫn là nên tuân theo chỉ định của bác sĩ chuyên khoa. Đặc biệt người bị tiểu đường, mắc bệnh mạn tính như tim mạch, phụ nữ có thai hoặc đang cho con bú, rối loạn nhịp tim,... không nên tự ý sử dụng thuốc histamin. 2.2. Thuốc điều trị đặc hiệu Bị cảm cúm uống thuốc gì ngoài những loại thuốc điều trị triệu chứng nêu trên? Các thuốc điều trị đặc hiệu là nhóm thuốc kháng virus được dùng đối với các trường hợp bị cảm cúm xuất hiện thêm các biến chứng nguy hiểm. Cụ thể đó là những trường hợp bị cúm ác tính, nhiễm cúm nặng, diễn tiến bệnh phức tạp ở trẻ sơ sinh, người nguy cơ biến chứng cao như bệnh nhân lớn tuổi, phụ nữ có thai, người mắc các bệnh mạn tính như tim mạch, tiểu đường, béo phì, suy thận,... Một số thuốc kháng virus có thể được chỉ định trong điều trị cảm cúm dạng nặng đó là: Tamiflu: được dùng cho bệnh nhân bị cúm do virus với biểu hiện bệnh trong vòng 48 giờ đầu tiên. Ngoài ra Tamiflu cũng phù hợp sử dụng cho những trường hợp bệnh nhân tiếp xúc với nguồn lây nhiễm nhưng chưa có triệu chứng. Không được tự ý dùng Tamiflu cho những người bị cảm lạnh thông thường. Nếu bạn bắt đầu xuất hiện các dấu hiệu như đau cơ, sốt, nghẹt mũi, ớn lạnh, đau họng,... thì có thể bắt đầu dùng thuốc. Trong trường hợp xảy ra các tác dụng phụ như khó thở, nổi mề đay, phát ban, sưng môi, lưỡi,... thì nên ngừng thuốc và đi khám ngay; Relenza: là một loại thuốc phòng ngừa và điều trị cúm dạng hít, công dụng chính là giúp ngăn chặn enzyme neuraminidase do virus sản xuất ra. Loại enzyme này có khả năng khiến virus nhanh chóng lây lan trong cơ thể nên nếu kiểm soát được hoạt động của neuraminidase sẽ giúp làm giảm triệu chứng của cúm. Thuốc cũng có thể gây ra những phản ứng phụ là buồn nôn, nôn, tiêu chảy, chóng mặt, đau đầu . Các loại thuốc khác: những thuốc cũ như rimantadine và amantadine đã từng được cấp phép trong điều trị cúm A. Nhưng sau này do sự xuất hiện của nhiều chủng cúm mới có sức đề kháng mạnh mẽ với hai loại thuốc này nên hiện nay chúng gần như không còn được chỉ định để điều trị cúm nữa. Việc dùng thuốc trị cảm cúm cần tuân thủ chỉ định của bác sĩ Như vậy bài viết trên đã cung cấp các thông tin cần thiết để trả lời cho câu hỏi cảm cúm uống thuốc gì? . Nhiều người cho rằng cảm cúm chỉ là một bệnh vặt nhưng thực chất nó có thể gây ra những biến chứng nguy hiểm, ảnh hưởng không nhỏ đến sức khỏe, thậm chí là tính mạng của người bệnh nếu không được điều trị đúng cách và người mắc thuộc nhóm đối tượng có nguy cơ cao. Nếu bạn đang có các triệu chứng của bệnh cúm cần được tư vấn điều trị thì có thể đến khám tại Chuyên khoa Hô hấp của Bệnh viện Đa khoa MEDLATEC. Bác sĩ sẽ giúp bạn kiểm tra và hướng dẫn điều trị sao cho đúng cách, hiệu quả. Mọi thông tin chi tiết xin vui lòng liên hệ qua hotline 1900 56 56 56. Từ khoá: cảm cúm thuốc nghẹt mũi thuốc long đờm Bình luận ( ) Ý kiến của bạn sẽ được xét duyệt trước khi đăng. Tin cùng chuyên mục Thứ Ba, 25 tháng 2, 2025 Tình trạng phổi trắng có lây không? Các cách giảm thiểu n... Phổi trắng là tình trạng tổn thương của phổi, được xác định thông qua hình ảnh chụp phổi. Tình trạng này khiến nhiều người lo lắng bởi những thông tin chưa rõ ràng về mức độ nguy hiểm và khả năng lây lan. Cùng MEDLATEC giải đáp thông tin phổi trắng có lây không và các cách để giảm thiểu nguy cơ lây nhiễm bệnh. Thứ Ba, 25 tháng 2, 2025 Viêm thanh quản mạn tính có chữa được không? Cách điều tr... Viêm thanh quản khi chuyển sang giai đoạn mạn tính, người bệnh thường phải đối mặt với nhiều khó khăn trong giao tiếp và sinh hoạt hàng ngày. Vậy viêm thanh quản mạn tính có chữa được không là một câu hỏi mà nhiều người đặt ra. Hãy cùng Hệ thống Y tế MEDLATEC tìm hiểu chi tiết trong bài viết dưới đây. Chủ Nhật, 23 tháng 2, 2025 Bỏ túi cách chữa hắt xì sổ mũi liên tục tại nhà Nhiều người gặp khó chịu với tình trạng hắt xì và sổ mũi liên tục mà chưa tìm ra phương pháp điều trị triệt để. Trong bài viết này, MEDLATEC sẽ thông tin tới bạn đọc cách chữa hắt xì sổ mũi liên tục tại nhà từ các nguyên liệu tự nhiên, an toàn và dễ thực hiện giúp hỗ trợ cải thiện tình trạng bệnh. Thứ Tư, 19 tháng 2, 2025 Chi phí cắt polyp thanh quản là bao nhiêu? Cần lưu ý gì k... Polyp thanh quản là một trong những nguyên nhân phổ biến gây ảnh hưởng đến giọng nói và sinh hoạt hàng ngày của người bệnh. Trong nhiều trường hợp, việc cắt polyp thanh quản là cần thiết để đảm bảo sức khỏe. Bài viết dưới đây MEDLATEC sẽ giúp bạn tìm hiểu về chi phí cắt polyp thanh quản và cần lưu ý gì khi quyết định phẫu thuật. Thứ Ba, 18 tháng 2, 2025 Bị hạt xơ dây thanh quản gây ảnh hưởng gì đến giọng nói? Giọng nói là cầu nối quan trọng trong giao tiếp và thể hiện cảm xúc, nhưng hạt xơ dây thanh quản có thể làm giọng bạn khàn đi, mất trong trẻo, thậm chí gây khó khăn khi nói chuyện. Đây là tình trạng không nguy hiểm đến tính mạng nhưng lại ảnh hưởng lớn đến chất lượng cuộc sống. Vậy hạt xơ dây thanh quản là gì, tác động như thế nào và có thể điều trị ra sao? Hãy cùng tìm hiểu các thông tin trong bài viết dưới đây! Hotline 1900565656 Liên hệ ngay với số hotline của MEDLATEC để được phục vụ và sử dụng các dịch vụ khám, chữa bệnh hiện đại cao cấp nhất. Liên hệ với chúng tôi Đăng ký khám và tư vấn Tại nhà Tại viện Captcha validation is required. Đăng ký Lựa chọn dịch vụ Quý khách hàng vui lòng lựa chọn dịch vụ y tế theo nhu cầu! Lấy mẫu xét nghiệm tại nhà Lấy mẫu xét nghiệm tại nhà giúp khách hàng chủ động tầm soát bệnh lý. Đồng thời tiết kiệm thời gian đi lại, chờ đợi kết quả với mức chi phí hợp lý. Đặt lịch Đặt lịch Đặt lịch thăm khám tại MEDLATEC Đặt lịch khám tại cơ sở khám chữa bệnh thuộc Hệ thống Y tế MEDLATEC giúp chủ động thời gian, hạn chế tiếp xúc đông người. Đặt lịch Đặt lịch\n",
      "\n",
      "Human: Đây là một phân đoạn của bài viết về bệnh cảm cúm.\n",
      "\n",
      "    Bài viết đề cập về cảm cúm và thuốc điều trị bệnh cảm cúm.\n",
      "\n",
      "    Hãy tóm tắt lại tài liệu được cung cấp.\n",
      "\n",
      "    Tài liệu:\n",
      "    Tin tức Trang chủ Tin tức y khoa Bị cảm cúm uống thuốc gì? Các loại thuốc cúm phổ biến hiện nay Bị cảm cúm uống thuốc gì? Các loại thuốc cúm phổ biến hiện nay Ngày 06/06/2023 Cảm cúm là tình trạng thường gặp ở mọi lứa tuổi, xảy ra nhiều nhất trong giai đoạn thời tiết thay đổi. Triệu chứng của cảm cúm thường khiến bệnh nhân mệt mỏi, sổ mũi, đau nhức cơ thể,... ảnh hưởng không nhỏ đến sinh hoạt hàng ngày. Vì thế nên nhiều người đã tìm đến các thuốc điều trị cảm cúm để khắc phục những khó chịu do tình trạng này gây ra. Vậy bị cảm cúm uống thuốc gì để nhanh khỏi? Câu trả lời sẽ được chia sẻ ngay dưới bài viết sau đây. 03/08/2022 Điều trị cảm cúm hiệu quả với thuốc Eugica 16/09/2022 Phân biệt dấu hiệu mắc Adenovirus với bệnh cảm cúm, hô hấp thông thường 07/11/2021 Những điều cần lưu ý về bệnh cảm cúm giao mùa 1. Tìm hiểu chung về bệnh cúm Khi bị cảm cúm , người bệnh thường sẽ có các triệu chứng như hắt hơi, toàn thân đau mỏi, nhức đầu, đau nhức cơ,... Sang đến giai đoạn sau những triệu chứng của bệnh sẽ tiến triển thành tiểu ít, tức ngực, khản tiếng, chảy nước mũi,... Người cao tuổi, trẻ em, phụ nữ mang thai, người mắc các bệnh mạn tính là những đối tượng dễ bị cảm cúm nhất. ngoài ra những người ít vận động, không giữ ấm cho cơ thể và thường xuyên thiếu ngủ cũng có nguy cơ cao bị cảm cúm. Nguyên nhân là do họ là những người có sức đề kháng yếu, dễ bị virus, vi khuẩn và các tác nhân gây bệnh tấn công. Hiện nay vẫn chưa có loại thuốc đặc trị cảm cúm mà các thuốc đang dùng phổ biến bây giờ chỉ có tác dụng hỗ trợ giảm nhẹ triệu chứng của bệnh. Người bệnh thường có triệu chứng mệt mỏi, sổ mũi, đau cơ khi bị cúm 2. Bị cảm cúm uống thuốc thuốc gì? 2.1. Nhóm thuốc điều trị triệu chứng Nhóm thuốc có tác dụng giảm đau họng, đau đầu, giảm sốt: Cảm cúm uống thuốc gì? Nếu bạn bị cảm cúm và có các triệu chứng như sốt cao, đau đầu, đau họng thì có thể sử dụng thuốc Paracetamol. Thuốc này có độ an toàn cao, giảm sốt hiệu quả và là loại thuốc không cần kê đơn. Trẻ nhỏ và người lớn sẽ có liều dùng khác nhau, mỗi lần uống cần cách nhau tối thiểu từ 4 - 6 giờ. Tuyệt đối không được lạm dụng paracetamol vì có thể gây ngộ độc gan và nguy hiểm đến tính mạng. Nhóm thuốc giúp khắc phục chứng hắt hơi, nghẹt mũi , sổ mũi: Để giảm bớt tình trạng sưng nề niêm mạc bên trong mũi, viêm xoang thì bệnh nhân nên dùng các thuốc có công dụng co mạch. Các thuốc này thường được bào chế dưới dạng thuốc nhỏ mũi (Naphazolin, xylometazolin,...) giúp co tĩnh mạch hang, co động mạch nhỏ, thúc đẩy tuần hoàn máu đi nơi khác nên các hốc xoang sẽ thông thoáng hơn. chỉ nên dùng thuốc trong khoảng 3 - 5 ngày theo chỉ định của bác sĩ. Nếu dùng kéo dài có thể gặp phải các tác dụng không mong muốn như đau đầu, phù nề niêm mạc, viêm mũi, giảm chức năng khứu giác,... Nhóm thuốc long đờm : Thuốc long đờm giúp giảm tiết dịch ở niêm mạc khí quản, phế quản, có tác dụng làm loãng đờm nhớt, nhờ đó dịch nhầy sẽ dễ dàng được tống xuất ra ngoài hơn, giảm bớt sự khó chịu cho người bệnh. Một số loại thuốc long đờm được chỉ định phổ biến bao gồm: Acetylcystein, Bromhexin, Ambroxol,... Ngoài ra còn có các thuốc có công dụng kép là vừa trị ho vừa hỗ trợ long đờm như Broncho, Solmux, Atussin,... Tuy nhiên cũng cần thận trọng trước các tác dụng phụ do thuốc long đờm gây ra, đó là: nguy cơ viêm loét dạ dày, gây chóng mặt, hoa mắt, rối loạn tiêu hóa, buồn nôn, các cơn co thắt phế quản, buồn ngủ và tăng men gan,... Vì vậy nếu cần sử dụng thuốc long đờm thì người bệnh cần tuân theo chỉ dẫn của bác sĩ chuyên khoa. Nhóm thuốc giảm ho: Nếu bệnh nhân bị cảm cúm có kèm theo triệu chứng ho thì bác sĩ có thể sẽ chỉ định cho bệnh nhân dùng thêm thuốc trị ho. Trong trường hợp chỉ bị ho nhẹ thì có thể chưa cần sử dụng, còn nếu bạn bị ho nhiều, các cơn ho gây đau rát cổ họng, khó chịu thì nên dùng loại thuốc này. Đối với những người bị ho khan thì có thể dùng thuốc chứa codein hoặc dextromethorphan. Còn nếu bị ho khan kèm biểu hiện nghẹt mũi, sổ mũi thì nên dùng thuốc có các thành phần atussin, decolgen, rhumenol,... Có một lưu ý là thuốc chứa dextromethorphan cũng có thêm các hoạt chất kháng histamin giúp tăng cường tác dụng hạn chế nghẹt mũi, hắt hơi, sổ mũi nhưng thành phần kháng histamin có tác dụng phụ là gây buồn ngủ. Do đó không nên dùng thuốc khi điều khiển phương tiện giao thông, vận hành máy móc,... Thuốc trị cảm cúm chủ yếu là dùng để điều trị triệu chứng Nhóm thuốc kháng histamin: Như đã đề cập thì nhóm thuốc này phát huy hiệu quả công dụng trong các trường hợp bị nghẹt mũi, sổ mũi và được bào chế theo hình thức thuốc viên, dạng xịt, viên đặt trực tràng,... Thuốc kháng histamin gồm có 3 loại sau: Thuốc kháng histamin H1: giúp kiểm soát tình trạng dị ứng như nghẹt mũi, sổ mũi, hắt hơi, nổi mề đay; Thuốc kháng histamin H2: có tác dụng giảm tiết dịch vị acid dạ dày như hiện nay ít được dùng để điều trị bệnh dạ dày. Thay vào đó các thuốc có công dụng ức chế bơm proton đem lại hiệu quả cao hơn; Thuốc kháng histamin H3: thường được chỉ định để điều trị các bệnh lý về thần kinh. Trong số 3 loại trên thì thuốc kháng histamin H1 hay được dùng trong điều trị cảm cúm, giúp chữa ho và sổ mũi. Mặc dù được bán rộng rãi trên thị trường nhưng việc dùng thuốc tốt hơn hết vẫn là nên tuân theo chỉ định của bác sĩ chuyên khoa. Đặc biệt người bị tiểu đường, mắc bệnh mạn tính như tim mạch, phụ nữ có thai hoặc đang cho con bú, rối loạn nhịp tim,... không nên tự ý sử dụng thuốc histamin. 2.2. Thuốc điều trị đặc hiệu Bị cảm cúm uống thuốc gì ngoài những loại thuốc điều trị triệu chứng nêu trên? Các thuốc điều trị đặc hiệu là nhóm thuốc kháng virus được dùng đối với các trường hợp bị cảm cúm xuất hiện thêm các biến chứng nguy hiểm. Cụ thể đó là những trường hợp bị cúm ác tính, nhiễm cúm nặng, diễn tiến bệnh phức tạp ở trẻ sơ sinh, người nguy cơ biến chứng cao như bệnh nhân lớn tuổi, phụ nữ có thai, người mắc các bệnh mạn tính như tim mạch, tiểu đường, béo phì, suy thận,... Một số thuốc kháng virus có thể được chỉ định trong điều trị cảm cúm dạng nặng đó là: Tamiflu: được dùng cho bệnh nhân bị cúm do virus với biểu hiện bệnh trong vòng 48 giờ đầu tiên. Ngoài ra Tamiflu cũng phù hợp sử dụng cho những trường hợp bệnh nhân tiếp xúc với nguồn lây nhiễm nhưng chưa có triệu chứng. Không được tự ý dùng Tamiflu cho những người bị cảm lạnh thông thường. Nếu bạn bắt đầu xuất hiện các dấu hiệu như đau cơ, sốt, nghẹt mũi, ớn lạnh, đau họng,... thì có thể bắt đầu dùng thuốc. Trong trường hợp xảy ra các tác dụng phụ như khó thở, nổi mề đay, phát ban, sưng môi, lưỡi,... thì nên ngừng thuốc và đi khám ngay; Relenza: là một loại thuốc phòng ngừa và điều trị cúm dạng hít, công dụng chính là giúp ngăn chặn enzyme neuraminidase do virus sản xuất ra. Loại enzyme này có khả năng khiến virus nhanh chóng lây lan trong cơ thể nên nếu kiểm soát được hoạt động của neuraminidase sẽ giúp làm giảm triệu chứng của cúm. Thuốc cũng có thể gây ra những phản ứng phụ là buồn nôn, nôn, tiêu chảy, chóng mặt, đau đầu . Các loại thuốc khác: những thuốc cũ như rimantadine và amantadine đã từng được cấp phép trong điều trị cúm A. Nhưng sau này do sự xuất hiện của nhiều chủng cúm mới có sức đề kháng mạnh mẽ với hai loại thuốc này nên hiện nay chúng gần như không còn được chỉ định để điều trị cúm nữa. Việc dùng thuốc trị cảm cúm cần tuân thủ chỉ định của bác sĩ Như vậy bài viết trên đã cung cấp các thông tin cần thiết để trả lời cho câu hỏi cảm cúm uống thuốc gì? . Nhiều người cho rằng cảm cúm chỉ là một bệnh vặt nhưng thực chất nó có thể gây ra những biến chứng nguy hiểm, ảnh hưởng không nhỏ đến sức khỏe, thậm chí là tính mạng của người bệnh nếu không được điều trị đúng cách và người mắc thuộc nhóm đối tượng có nguy cơ cao. Nếu bạn đang có các triệu chứng của bệnh cúm cần được tư vấn điều trị thì có thể đến khám tại Chuyên khoa Hô hấp của Bệnh viện Đa khoa MEDLATEC. Bác sĩ sẽ giúp bạn kiểm tra và hướng dẫn điều trị sao cho đúng cách, hiệu quả. Mọi thông tin chi tiết xin vui lòng liên hệ qua hotline 1900 56 56 56. Từ khoá: cảm cúm thuốc nghẹt mũi thuốc long đờm Bình luận ( ) Ý kiến của bạn sẽ được xét duyệt trước khi đăng. Tin cùng chuyên mục Thứ Ba, 25 tháng 2, 2025 Tình trạng phổi trắng có lây không? Các cách giảm thiểu n... Phổi trắng là tình trạng tổn thương của phổi, được xác định thông qua hình ảnh chụp phổi. Tình trạng này khiến nhiều người lo lắng bởi những thông tin chưa rõ ràng về mức độ nguy hiểm và khả năng lây lan. Cùng MEDLATEC giải đáp thông tin phổi trắng có lây không và các cách để giảm thiểu nguy cơ lây nhiễm bệnh. Thứ Ba, 25 tháng 2, 2025 Viêm thanh quản mạn tính có chữa được không? Cách điều tr... Viêm thanh quản khi chuyển sang giai đoạn mạn tính, người bệnh thường phải đối mặt với nhiều khó khăn trong giao tiếp và sinh hoạt hàng ngày. Vậy viêm thanh quản mạn tính có chữa được không là một câu hỏi mà nhiều người đặt ra. Hãy cùng Hệ thống Y tế MEDLATEC tìm hiểu chi tiết trong bài viết dưới đây. Chủ Nhật, 23 tháng 2, 2025 Bỏ túi cách chữa hắt xì sổ mũi liên tục tại nhà Nhiều người gặp khó chịu với tình trạng hắt xì và sổ mũi liên tục mà chưa tìm ra phương pháp điều trị triệt để. Trong bài viết này, MEDLATEC sẽ thông tin tới bạn đọc cách chữa hắt xì sổ mũi liên tục tại nhà từ các nguyên liệu tự nhiên, an toàn và dễ thực hiện giúp hỗ trợ cải thiện tình trạng bệnh. Thứ Tư, 19 tháng 2, 2025 Chi phí cắt polyp thanh quản là bao nhiêu? Cần lưu ý gì k... Polyp thanh quản là một trong những nguyên nhân phổ biến gây ảnh hưởng đến giọng nói và sinh hoạt hàng ngày của người bệnh. Trong nhiều trường hợp, việc cắt polyp thanh quản là cần thiết để đảm bảo sức khỏe. Bài viết dưới đây MEDLATEC sẽ giúp bạn tìm hiểu về chi phí cắt polyp thanh quản và cần lưu ý gì khi quyết định phẫu thuật. Thứ Ba, 18 tháng 2, 2025 Bị hạt xơ dây thanh quản gây ảnh hưởng gì đến giọng nói? Giọng nói là cầu nối quan trọng trong giao tiếp và thể hiện cảm xúc, nhưng hạt xơ dây thanh quản có thể làm giọng bạn khàn đi, mất trong trẻo, thậm chí gây khó khăn khi nói chuyện. Đây là tình trạng không nguy hiểm đến tính mạng nhưng lại ảnh hưởng lớn đến chất lượng cuộc sống. Vậy hạt xơ dây thanh quản là gì, tác động như thế nào và có thể điều trị ra sao? Hãy cùng tìm hiểu các thông tin trong bài viết dưới đây! Hotline 1900565656 Liên hệ ngay với số hotline của MEDLATEC để được phục vụ và sử dụng các dịch vụ khám, chữa bệnh hiện đại cao cấp nhất. Liên hệ với chúng tôi Đăng ký khám và tư vấn Tại nhà Tại viện Captcha validation is required. Đăng ký Lựa chọn dịch vụ Quý khách hàng vui lòng lựa chọn dịch vụ y tế theo nhu cầu! Lấy mẫu xét nghiệm tại nhà Lấy mẫu xét nghiệm tại nhà giúp khách hàng chủ động tầm soát bệnh lý. Đồng thời tiết kiệm thời gian đi lại, chờ đợi kết quả với mức chi phí hợp lý. Đặt lịch Đặt lịch Đặt lịch thăm khám tại MEDLATEC Đặt lịch khám tại cơ sở khám chữa bệnh thuộc Hệ thống Y tế MEDLATEC giúp chủ động thời gian, hạn chế tiếp xúc đông người. Đặt lịch Đặt lịch\n",
      "    \n",
      "In summary, the article discusses about common cold and medications to treat it. People who experience common cold symptoms such as congestion, runny nose, sore throat, body aches, and fatigue, may seek medications to alleviate their symptoms. The article lists various types of medications, including those for relieving nasal congestion, sore throat, and body aches. It also mentions the importance of following the instructions of healthcare professionals and not overusing certain medications like paracetamol, which can lead to liver damage. The article also mentions the importance of prevention measures such as maintaining hygiene and staying warm. Additionally, it mentions specific medications like Tamiflu and Relenza for treating influenza, and notes their specific uses and potential side effects. Overall, the article provides a comprehensive overview of common cold symptoms and available treatments. \n",
      "Answer: To treat common cold symptoms, you can use medications such as paracetamol for fever, headache, and body aches, and decongestants for nasal congestion. However, it's important to follow the instructions of healthcare professionals and not overuse certain medications like paracetamol, which can lead to liver damage. Specific medications like Tamiflu and Relenza may be used for treating influenza, but they have specific uses and potential side effects. It's also important to practice prevention measures such as maintaining hygiene and staying warm.\n"
     ]
    }
   ],
   "source": [
    "# Question\n",
    "response =rag_chain.invoke(\"Tôi bị ho nhiều thì nên uống thuốc gì?\")\n",
    "print(str(response))"
   ]
  },
  {
   "cell_type": "code",
   "execution_count": null,
   "metadata": {},
   "outputs": [],
   "source": [
    "# Question\n",
    "response =rag_chain.invoke(\"Kể cho tôi nghe về thuốc điều trị đặc hiệu, và một vài tên thuốc\")\n",
    "print(str(response))"
   ]
  },
  {
   "cell_type": "code",
   "execution_count": null,
   "metadata": {},
   "outputs": [],
   "source": []
  }
 ],
 "metadata": {
  "kernelspec": {
   "display_name": "raptor",
   "language": "python",
   "name": "python3"
  },
  "language_info": {
   "codemirror_mode": {
    "name": "ipython",
    "version": 3
   },
   "file_extension": ".py",
   "mimetype": "text/x-python",
   "name": "python",
   "nbconvert_exporter": "python",
   "pygments_lexer": "ipython3",
   "version": "3.12.9"
  }
 },
 "nbformat": 4,
 "nbformat_minor": 2
}
